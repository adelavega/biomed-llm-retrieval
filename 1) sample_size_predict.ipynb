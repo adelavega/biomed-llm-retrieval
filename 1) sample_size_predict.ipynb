{
 "cells": [
  {
   "cell_type": "markdown",
   "id": "614587ee",
   "metadata": {},
   "source": [
    "# Prototype Sample Size extraction using GPT\n",
    "\n",
    "Goal: Test prompt engineering on the easiest use case: single "
   ]
  },
  {
   "cell_type": "code",
   "execution_count": 1,
   "id": "4a04a86b",
   "metadata": {},
   "outputs": [],
   "source": [
    "import pandas as pd\n",
    "from labelrepo.projects.participant_demographics import (\n",
    "    get_participant_demographics,\n",
    ")\n",
    "\n",
    "subgroups = get_participant_demographics()"
   ]
  },
  {
   "cell_type": "code",
   "execution_count": 2,
   "id": "eb79e014",
   "metadata": {},
   "outputs": [],
   "source": [
    "abstracts = pd.read_csv('data/abstracts.csv')"
   ]
  },
  {
   "cell_type": "code",
   "execution_count": 3,
   "id": "5e751e67",
   "metadata": {},
   "outputs": [],
   "source": [
    "jerome_pd = subgroups[(subgroups.project_name == 'participant_demographics') & (subgroups.annotator_name == 'Jerome_Dockes')]"
   ]
  },
  {
   "cell_type": "code",
   "execution_count": 4,
   "id": "93b67acd",
   "metadata": {},
   "outputs": [],
   "source": [
    "counts = jerome_pd.groupby('pmcid').count().reset_index()\n",
    "single_group_pmcids = counts[counts['count'] == 1].pmcid"
   ]
  },
  {
   "cell_type": "markdown",
   "id": "c972de18",
   "metadata": {},
   "source": [
    "### Single group with Sample Size in Abstract"
   ]
  },
  {
   "cell_type": "code",
   "execution_count": 5,
   "id": "ccb83131",
   "metadata": {},
   "outputs": [],
   "source": [
    "single_group = jerome_pd[jerome_pd.pmcid.isin(single_group_pmcids)]"
   ]
  },
  {
   "cell_type": "code",
   "execution_count": 6,
   "id": "6d3fb521",
   "metadata": {},
   "outputs": [],
   "source": [
    "single_group = pd.merge(single_group, abstracts[abstracts.pmcid.isin(single_group.pmcid)])"
   ]
  },
  {
   "cell_type": "code",
   "execution_count": 7,
   "id": "10976021",
   "metadata": {},
   "outputs": [],
   "source": [
    "# Heuristic for finding in abstract studies\n",
    "# Using fixed list below after manual checking\n",
    "# single_group['in_abstract'] = \\\n",
    "#  single_group.apply(lambda x: (re.search(f\"\\D{x['count']}\", x.abstract) != None), axis = 1)"
   ]
  },
  {
   "cell_type": "code",
   "execution_count": 8,
   "id": "a43feded",
   "metadata": {},
   "outputs": [],
   "source": [
    "# Manual list\n",
    "not_in_abstract = [5548834, 4029023, 4318429, 5324609, 8752963, 5218407, 3147157, 2775905, 6344389, 8837589, 7430162, 7563756, 7156375, 4330553, 6989437, 6328158, 3409150, 3775427, 3483694, 6787094, 6528067, 3869649, 3183226, 6868994, 7002496, 6492297, 3780305]"
   ]
  },
  {
   "cell_type": "code",
   "execution_count": 9,
   "id": "a49603f3",
   "metadata": {},
   "outputs": [],
   "source": [
    "single_group['in_abstract'] = single_group.pmcid.isin(not_in_abstract) == False"
   ]
  },
  {
   "cell_type": "markdown",
   "id": "06692aee",
   "metadata": {},
   "source": [
    "## Extract simple sample size"
   ]
  },
  {
   "cell_type": "code",
   "execution_count": 10,
   "id": "1ba76eda",
   "metadata": {},
   "outputs": [],
   "source": [
    "import openai\n",
    "from templates import ZERO_SHOT_SINGLE_GROUP_DEMOGRAPHICS\n",
    "from extract import extract_from_multiple\n",
    "\n",
    "openai.api_key = open('/home/zorro/.keys/open_ai.key').read().strip()"
   ]
  },
  {
   "cell_type": "code",
   "execution_count": 11,
   "id": "7126dabb",
   "metadata": {},
   "outputs": [
    {
     "name": "stderr",
     "output_type": "stream",
     "text": [
      "100%|███████████████████████████████████████████| 75/75 [00:49<00:00,  1.51it/s]\n"
     ]
    }
   ],
   "source": [
    "predictions = extract_from_multiple(single_group.abstract.to_list(), \n",
    "                                    **ZERO_SHOT_SINGLE_GROUP_DEMOGRAPHICS, num_workers=2)"
   ]
  },
  {
   "cell_type": "code",
   "execution_count": 12,
   "id": "58a91f62",
   "metadata": {},
   "outputs": [],
   "source": [
    "# Normalize values\n",
    "predictions['pmcid'] = single_group['pmcid']\n",
    "predictions['count'] = predictions['count'].astype('str')\n",
    "single_group['count'] = single_group['count'].astype('str')\n",
    "\n",
    "predictions['correct'] = single_group['count'] == predictions['count']"
   ]
  },
  {
   "cell_type": "code",
   "execution_count": 13,
   "id": "7c5c41d2",
   "metadata": {},
   "outputs": [
    {
     "data": {
      "text/plain": [
       "{'template': '\\n                You will be provided with a text sample from a scientific journal. \\n                The sample is delimited with triple backticks.\\n\\n                Perform the following tasks:\\n                1. Identify the total number of participants that underwent fMRI or neuroimaging in the study, if any. \\n                2. Provide your response in a JSON format containing a single key `count` and a integer value corresponding to the number of participants. \\n                Do not provide any additional information except the JSON. If the number of participants is not mentioned in the text, provide `n/a` as the value. If the number of participants is 0 return `n/a`.\\n\\n                Text sample: ```{text}```\\n\\n                Your JSON response:\\n                ',\n",
       " 'expected_keys': ['count']}"
      ]
     },
     "execution_count": 13,
     "metadata": {},
     "output_type": "execute_result"
    }
   ],
   "source": [
    "ZERO_SHOT_SINGLE_GROUP_DEMOGRAPHICS"
   ]
  },
  {
   "cell_type": "markdown",
   "id": "312a83e0",
   "metadata": {},
   "source": [
    "### Only look at those with sample size in abstract"
   ]
  },
  {
   "cell_type": "code",
   "execution_count": 14,
   "id": "1bb7569b",
   "metadata": {},
   "outputs": [],
   "source": [
    "in_abstract_predictions = predictions[single_group['in_abstract']]"
   ]
  },
  {
   "cell_type": "code",
   "execution_count": 15,
   "id": "124b1cd0",
   "metadata": {},
   "outputs": [
    {
     "data": {
      "text/plain": [
       "0.9166666666666666"
      ]
     },
     "execution_count": 15,
     "metadata": {},
     "output_type": "execute_result"
    }
   ],
   "source": [
    "# Percentage correct\n",
    "in_abstract_predictions['correct'].mean()"
   ]
  },
  {
   "cell_type": "code",
   "execution_count": 16,
   "id": "6d468143",
   "metadata": {},
   "outputs": [
    {
     "data": {
      "text/html": [
       "<div>\n",
       "<style scoped>\n",
       "    .dataframe tbody tr th:only-of-type {\n",
       "        vertical-align: middle;\n",
       "    }\n",
       "\n",
       "    .dataframe tbody tr th {\n",
       "        vertical-align: top;\n",
       "    }\n",
       "\n",
       "    .dataframe thead th {\n",
       "        text-align: right;\n",
       "    }\n",
       "</style>\n",
       "<table border=\"1\" class=\"dataframe\">\n",
       "  <thead>\n",
       "    <tr style=\"text-align: right;\">\n",
       "      <th></th>\n",
       "      <th>count</th>\n",
       "      <th>pmcid</th>\n",
       "      <th>correct</th>\n",
       "    </tr>\n",
       "  </thead>\n",
       "  <tbody>\n",
       "    <tr>\n",
       "      <th>14</th>\n",
       "      <td>69</td>\n",
       "      <td>5460048</td>\n",
       "      <td>False</td>\n",
       "    </tr>\n",
       "    <tr>\n",
       "      <th>26</th>\n",
       "      <td>n/a</td>\n",
       "      <td>8978988</td>\n",
       "      <td>False</td>\n",
       "    </tr>\n",
       "    <tr>\n",
       "      <th>56</th>\n",
       "      <td>79</td>\n",
       "      <td>6678781</td>\n",
       "      <td>False</td>\n",
       "    </tr>\n",
       "    <tr>\n",
       "      <th>74</th>\n",
       "      <td>27</td>\n",
       "      <td>6509414</td>\n",
       "      <td>False</td>\n",
       "    </tr>\n",
       "  </tbody>\n",
       "</table>\n",
       "</div>"
      ],
      "text/plain": [
       "   count    pmcid  correct\n",
       "14    69  5460048    False\n",
       "26   n/a  8978988    False\n",
       "56    79  6678781    False\n",
       "74    27  6509414    False"
      ]
     },
     "execution_count": 16,
     "metadata": {},
     "output_type": "execute_result"
    }
   ],
   "source": [
    "# Incorrect predictions\n",
    "in_abstract_predictions[in_abstract_predictions['correct'] == False]"
   ]
  },
  {
   "cell_type": "markdown",
   "id": "b316395d",
   "metadata": {},
   "source": [
    "Notes: First error is due to pulling out sample size for behavioral task, not fMRI task. \n",
    "\n",
    "Second error is due to study being a single subject study."
   ]
  },
  {
   "cell_type": "markdown",
   "id": "22ad336a",
   "metadata": {},
   "source": [
    "### Any hallucinations?"
   ]
  },
  {
   "cell_type": "code",
   "execution_count": 17,
   "id": "26613d05",
   "metadata": {},
   "outputs": [],
   "source": [
    "no_abstract_predictions = predictions[single_group['in_abstract'] == False]"
   ]
  },
  {
   "cell_type": "code",
   "execution_count": 18,
   "id": "d38aff08",
   "metadata": {},
   "outputs": [
    {
     "data": {
      "text/plain": [
       "0.9259259259259259"
      ]
     },
     "execution_count": 18,
     "metadata": {},
     "output_type": "execute_result"
    }
   ],
   "source": [
    "# Predicted `n/a` or got correct answer (i.e. misclassified as not having info in abstract)\n",
    "((no_abstract_predictions['count'] == 'n/a')).mean()"
   ]
  },
  {
   "cell_type": "code",
   "execution_count": 19,
   "id": "72127b39",
   "metadata": {},
   "outputs": [
    {
     "data": {
      "text/html": [
       "<div>\n",
       "<style scoped>\n",
       "    .dataframe tbody tr th:only-of-type {\n",
       "        vertical-align: middle;\n",
       "    }\n",
       "\n",
       "    .dataframe tbody tr th {\n",
       "        vertical-align: top;\n",
       "    }\n",
       "\n",
       "    .dataframe thead th {\n",
       "        text-align: right;\n",
       "    }\n",
       "</style>\n",
       "<table border=\"1\" class=\"dataframe\">\n",
       "  <thead>\n",
       "    <tr style=\"text-align: right;\">\n",
       "      <th></th>\n",
       "      <th>count</th>\n",
       "      <th>pmcid</th>\n",
       "      <th>correct</th>\n",
       "    </tr>\n",
       "  </thead>\n",
       "  <tbody>\n",
       "    <tr>\n",
       "      <th>2</th>\n",
       "      <td>0</td>\n",
       "      <td>4029023</td>\n",
       "      <td>False</td>\n",
       "    </tr>\n",
       "    <tr>\n",
       "      <th>40</th>\n",
       "      <td>0</td>\n",
       "      <td>5548834</td>\n",
       "      <td>False</td>\n",
       "    </tr>\n",
       "  </tbody>\n",
       "</table>\n",
       "</div>"
      ],
      "text/plain": [
       "   count    pmcid  correct\n",
       "2      0  4029023    False\n",
       "40     0  5548834    False"
      ]
     },
     "execution_count": 19,
     "metadata": {},
     "output_type": "execute_result"
    }
   ],
   "source": [
    "# Studies where the model was wrong, and did not predict an `n/a`\n",
    "no_abstract_predictions[(no_abstract_predictions['count'] != 'n/a') & (no_abstract_predictions['correct'] == False)]"
   ]
  },
  {
   "cell_type": "markdown",
   "id": "55a35fde",
   "metadata": {},
   "source": [
    "Overall notes: \n",
    "\n",
    "Errors:\n",
    "- 2 error due to discrepancy between methods and abstract count (final n vs starting n)\n",
    "- 1 n/a should be = 1\n",
    "- 1 was for behavioral count, not fMRI count\n",
    "\n",
    "False positives:\n",
    "- Age was extracted instead of sample size (fixed after improving prompt)\n",
    "- Returns 0 occasional instead of `n/a` (could be fixed in serialization). \n",
    "\n",
    "\n",
    "Excluding abstract/full-text discrepancies, error rate is 2/75"
   ]
  },
  {
   "cell_type": "markdown",
   "id": "f43f98c2",
   "metadata": {},
   "source": [
    "### View incorrect abstracts"
   ]
  },
  {
   "cell_type": "code",
   "execution_count": 25,
   "id": "068ac6f1",
   "metadata": {},
   "outputs": [],
   "source": [
    "pmcid = 6678781\n",
    "text = abstracts[abstracts.pmcid == pmcid]['abstract'].tolist()[0].encode(\"ascii\", \"ignore\").decode()"
   ]
  },
  {
   "cell_type": "code",
   "execution_count": 26,
   "id": "2820ef48",
   "metadata": {},
   "outputs": [
    {
     "data": {
      "text/plain": [
       "' \\nHigh prevalence of child sexual offending stand in contradiction to low conviction rates (one-tenth at most) of child sexual offenders (CSOs). Little is known about possible differences between convicted and non-convicted pedophilic CSOs and why only some become known to the judicial system. This investigation takes a closer look at the two sides of child sexual offending by focusing on clinical and neurobiological characteristics of convicted and non-convicted pedophilic CSOs as presented in the Neural Mechanisms Underlying Pedophilia and sexual offending against children (NeMUP)*-study. Seventy-nine male pedophilic CSOs were examined, 48 of them convicted. All participants received a thorough clinical examination including the structured clinical interview (SCID), intelligence, empathy, impulsivity, and criminal history. Sixty-one participants (38 convicted) underwent an inhibition performance task (Go/No-go paradigm) combined with functional magnetic resonance imaging (fMRI). Convicted and non-convicted pedophilic CSOs revealed similar clinical characteristics, inhibition performances, and neuronal activation. However, convicted subjects age preference was lower (i.e., higher interest in prepubescent children) and they had committed a significantly higher number of sexual offenses against children compared to non-convicted subjects. In conclusion, sexual age preference may represent one of the major driving forces for elevated rates of sexual offenses against children in this sample, and careful clinical assessment thereof should be incorporated in every preventive approach. \\n '"
      ]
     },
     "execution_count": 26,
     "metadata": {},
     "output_type": "execute_result"
    }
   ],
   "source": [
    "text"
   ]
  },
  {
   "cell_type": "code",
   "execution_count": 22,
   "id": "c5428edc",
   "metadata": {},
   "outputs": [
    {
     "data": {
      "text/html": [
       "<div>\n",
       "<style scoped>\n",
       "    .dataframe tbody tr th:only-of-type {\n",
       "        vertical-align: middle;\n",
       "    }\n",
       "\n",
       "    .dataframe tbody tr th {\n",
       "        vertical-align: top;\n",
       "    }\n",
       "\n",
       "    .dataframe thead th {\n",
       "        text-align: right;\n",
       "    }\n",
       "</style>\n",
       "<table border=\"1\" class=\"dataframe\">\n",
       "  <thead>\n",
       "    <tr style=\"text-align: right;\">\n",
       "      <th></th>\n",
       "      <th>group_name</th>\n",
       "      <th>subgroup_name</th>\n",
       "      <th>project_name</th>\n",
       "      <th>annotator_name</th>\n",
       "      <th>pmcid</th>\n",
       "      <th>diagnosis</th>\n",
       "      <th>count</th>\n",
       "      <th>male count</th>\n",
       "      <th>age mean</th>\n",
       "      <th>female count</th>\n",
       "      <th>age minimum</th>\n",
       "      <th>age maximum</th>\n",
       "      <th>age median</th>\n",
       "      <th>abstract</th>\n",
       "      <th>in_abstract</th>\n",
       "    </tr>\n",
       "  </thead>\n",
       "  <tbody>\n",
       "    <tr>\n",
       "      <th>56</th>\n",
       "      <td>patients</td>\n",
       "      <td>_</td>\n",
       "      <td>participant_demographics</td>\n",
       "      <td>Jerome_Dockes</td>\n",
       "      <td>6678781</td>\n",
       "      <td>Pedophilic Child Sexual Offenders</td>\n",
       "      <td>61</td>\n",
       "      <td>61.0</td>\n",
       "      <td>NaN</td>\n",
       "      <td>NaN</td>\n",
       "      <td>NaN</td>\n",
       "      <td>NaN</td>\n",
       "      <td>NaN</td>\n",
       "      <td>\\nHigh prevalence of child sexual offending s...</td>\n",
       "      <td>True</td>\n",
       "    </tr>\n",
       "  </tbody>\n",
       "</table>\n",
       "</div>"
      ],
      "text/plain": [
       "   group_name subgroup_name              project_name annotator_name    pmcid  \\\n",
       "56   patients             _  participant_demographics  Jerome_Dockes  6678781   \n",
       "\n",
       "                            diagnosis count  male count  age mean  \\\n",
       "56  Pedophilic Child Sexual Offenders    61        61.0       NaN   \n",
       "\n",
       "    female count  age minimum  age maximum  age median  \\\n",
       "56           NaN          NaN          NaN         NaN   \n",
       "\n",
       "                                             abstract  in_abstract  \n",
       "56   \\nHigh prevalence of child sexual offending s...         True  "
      ]
     },
     "execution_count": 22,
     "metadata": {},
     "output_type": "execute_result"
    }
   ],
   "source": [
    "single_group[single_group.pmcid == pmcid]"
   ]
  }
 ],
 "metadata": {
  "kernelspec": {
   "display_name": "Python 3 (ipykernel)",
   "language": "python",
   "name": "python3"
  },
  "language_info": {
   "codemirror_mode": {
    "name": "ipython",
    "version": 3
   },
   "file_extension": ".py",
   "mimetype": "text/x-python",
   "name": "python",
   "nbconvert_exporter": "python",
   "pygments_lexer": "ipython3",
   "version": "3.11.4"
  }
 },
 "nbformat": 4,
 "nbformat_minor": 5
}
