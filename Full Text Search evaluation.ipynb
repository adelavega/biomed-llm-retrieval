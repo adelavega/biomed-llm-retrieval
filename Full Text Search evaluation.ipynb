{
 "cells": [
  {
   "cell_type": "markdown",
   "id": "ec33aee1-7c7b-4e3a-8b81-b1bd79e1ca5f",
   "metadata": {},
   "source": [
    "# Full Text Search evaluation with participant demographics\n",
    "\n",
    "Here, I evaluate the strategy of finding relevant text sections using chunk embeddings.\n",
    "\n",
    "First, I split PMC articles using Markdown (and lines), into chunks less than `n_tokens` (~4000).\n",
    "\n",
    "Next, we embed each chunks.\n",
    "\n",
    "Finally, using a text query, we find the most relevant section of each article for finding participant demographics.\n",
    "The query is also embedded and a distance metric is taken between each chunk and the query.\n",
    "\n",
    "To evaluate this method, I will see if this method correctly identifies the section where human annotators found demographic info."
   ]
  },
  {
   "cell_type": "markdown",
   "id": "7250c22c-a887-48b7-9e1d-73071984059f",
   "metadata": {},
   "source": [
    "## Setup"
   ]
  },
  {
   "cell_type": "code",
   "execution_count": 1,
   "id": "31043f58-23b0-4ad8-a3db-5b6875442ca0",
   "metadata": {},
   "outputs": [],
   "source": [
    "import pandas as pd\n",
    "from labelrepo.projects.participant_demographics import get_participant_demographics\n",
    "\n",
    "subgroups = get_participant_demographics(include_locations=True)"
   ]
  },
  {
   "cell_type": "code",
   "execution_count": 19,
   "id": "63234349-9da7-4e46-a65c-bdd8fba5d6be",
   "metadata": {},
   "outputs": [],
   "source": [
    "from labelrepo.database import get_database_connection\n",
    "\n",
    "import pandas as pd\n",
    "\n",
    "docs_info = pd.read_sql(\n",
    "    \"select pmcid, publication_year, title, text from document\",\n",
    "    get_database_connection(),\n",
    ")"
   ]
  },
  {
   "cell_type": "code",
   "execution_count": 20,
   "id": "074e1132-e726-41c9-bbd2-dbbf9c4ba2a8",
   "metadata": {},
   "outputs": [],
   "source": [
    "# Only look at single group documents\n",
    "jerome_pd = subgroups[(subgroups.project_name == 'participant_demographics') & \\\n",
    "                      (subgroups.annotator_name == 'Jerome_Dockes')]\n",
    "\n",
    "counts = jerome_pd.groupby('pmcid').count().reset_index()\n",
    "single_group_pmcids = counts[counts['count'] == 1].pmcid\n",
    "single_group = jerome_pd[jerome_pd.pmcid.isin(single_group_pmcids)]"
   ]
  },
  {
   "cell_type": "code",
   "execution_count": 23,
   "id": "a8efe8e9-478c-465d-893d-dc98da3ad0c4",
   "metadata": {},
   "outputs": [],
   "source": [
    "single_group_docs = docs_info[docs_info.pmcid.isin(single_group.pmcid)]"
   ]
  },
  {
   "cell_type": "markdown",
   "id": "f0d12784-5fb0-4f1c-8845-115130668f39",
   "metadata": {},
   "source": [
    "### Embed all documents"
   ]
  },
  {
   "cell_type": "code",
   "execution_count": 4,
   "id": "e03363f3-9d81-4f95-b92d-8fff42ef8b9d",
   "metadata": {},
   "outputs": [],
   "source": [
    "import openai\n",
    "openai.api_key = open('/home/zorro/.keys/open_ai.key').read().strip()"
   ]
  },
  {
   "cell_type": "code",
   "execution_count": 5,
   "id": "b05afc81-5548-43b9-8de6-91b815156861",
   "metadata": {},
   "outputs": [
    {
     "name": "stderr",
     "output_type": "stream",
     "text": [
      "100%|███████████████████████████████████████████| 75/75 [04:58<00:00,  3.97s/it]\n"
     ]
    }
   ],
   "source": [
    "from embed import embed_pmc_articles\n",
    "# texts = single_group_docs[['pmcid', 'text']].to_dict(orient='records')\n",
    "# single_group_embeddings = embed_pmc_articles(texts)"
   ]
  },
  {
   "cell_type": "code",
   "execution_count": 13,
   "id": "82653681-200e-4df4-a185-69d4376dbea0",
   "metadata": {},
   "outputs": [],
   "source": [
    "import pickle\n",
    "# pickle.dump(single_group_embeddings, open('data/single_group_embeddings.pkl', 'wb'))"
   ]
  },
  {
   "cell_type": "markdown",
   "id": "966239b6-86f1-4118-9ec9-393426890a86",
   "metadata": {},
   "source": [
    "### Test query across all documents\n",
    "\n",
    "Given a query, see what the average rank for the chunk matching the human annotation is"
   ]
  },
  {
   "cell_type": "code",
   "execution_count": 194,
   "id": "45cb2029-32cc-46e4-b81d-03414e7f51a4",
   "metadata": {},
   "outputs": [],
   "source": [
    "single_group_embeddings = pickle.load(open('data/single_group_embeddings.pkl', 'rb'))"
   ]
  },
  {
   "cell_type": "code",
   "execution_count": 195,
   "id": "2b423b9e-85ab-429e-957a-d8dc59fe007e",
   "metadata": {},
   "outputs": [],
   "source": [
    "single_group_embeddings = pd.DataFrame(single_group_embeddings)"
   ]
  },
  {
   "cell_type": "code",
   "execution_count": 216,
   "id": "88a7586c-611c-44c2-868b-3b4a57dec3a3",
   "metadata": {},
   "outputs": [],
   "source": [
    "def find_match(df, pmcid, start_char, end_char):\n",
    "    \"\"\"Find the row in the dataframe that matches the pmcid and contains the start and end character indices.\"\"\"\n",
    "    return df[(df['pmcid'] == pmcid) & (df['start_char'] <= start_char) & (df['end_char'] >= end_char)]\n",
    "\n",
    "def get_matching_chunks(ranks_df, annotation_df):\n",
    "    matches = []\n",
    "    for ix, row in annotation_df.iterrows():\n",
    "        m = find_match(ranks_df, row['pmcid'], row['start_char'], row['end_char'])\n",
    "        matches.append(m)\n",
    "    \n",
    "    matces = pd.concat(matches)\n",
    "    return matces\n",
    "\n",
    "def _query_multiple_df(df, query):\n",
    "    all_distances, all_ranks = [], []\n",
    "    for pmcid, sub_df in df.groupby('pmcid', sort=False):\n",
    "        distances, ranks = query_embeddings(sub_df['embedding'].tolist(), query)\n",
    "        all_distances.append(distances)\n",
    "        all_ranks.append(ranks)\n",
    "\n",
    "\n",
    "    df['distance'] = np.concatenate(all_distances)\n",
    "    df['rank'] = np.concatenate(all_ranks)\n",
    "\n",
    "    return df\n",
    "\n",
    "def test_query_across_docs(embeddings_df, query):\n",
    "    single_group_ranks = _query_multiple_df(embeddings_df, query)\n",
    "    matching_chunks = get_matching_chunks(single_group_ranks, single_group)\n",
    "\n",
    "    return matching_chunks"
   ]
  },
  {
   "cell_type": "code",
   "execution_count": 233,
   "id": "f8d4b024-47c7-4b63-b9b0-056d86bb61e1",
   "metadata": {},
   "outputs": [],
   "source": [
    "def test_query(embeddings_df, query):\n",
    "    mc = test_query_across_docs(embeddings_df, query)\n",
    "    \n",
    "    # Mean ranking of matching chunk\n",
    "    mean_rank = mc['rank'].mean()\n",
    "    \n",
    "    # Percentage of the time query matches passage\n",
    "    top_rank_percentage = (mc['rank'] == 0).mean()\n",
    "    \n",
    "    top_5_percentage = (mc['rank'] <= 5).mean()\n",
    "\n",
    "    print(f\"Mean rank: {mean_rank}, top 1 percentage: {top_rank_percentage}, top 5 percentage: {top_5_percentage}\")\n",
    "\n",
    "    return mc"
   ]
  },
  {
   "cell_type": "code",
   "execution_count": 234,
   "id": "358bc87c-6506-44d7-a11a-ca1cea20431d",
   "metadata": {},
   "outputs": [
    {
     "name": "stdout",
     "output_type": "stream",
     "text": [
      "Mean rank: 6.48, top 1 percentage: 0.013333333333333334, top 5 percentage: 0.6133333333333333\n"
     ]
    }
   ],
   "source": [
    "_ = test_query(single_group_embeddings, 'kjfkfkjfkd')"
   ]
  },
  {
   "cell_type": "code",
   "execution_count": 235,
   "id": "783a61ba-eb13-4fa5-a3f7-ea6bed0f40cf",
   "metadata": {},
   "outputs": [
    {
     "name": "stdout",
     "output_type": "stream",
     "text": [
      "Mean rank: 5.2, top 1 percentage: 0.13333333333333333, top 5 percentage: 0.6933333333333334\n"
     ]
    }
   ],
   "source": [
    "_ = test_query(single_group_embeddings, 'Methods section')"
   ]
  },
  {
   "cell_type": "code",
   "execution_count": 236,
   "id": "c69a5387-c48e-4c3d-a8af-9c0d442e4930",
   "metadata": {},
   "outputs": [
    {
     "name": "stdout",
     "output_type": "stream",
     "text": [
      "Mean rank: 3.0, top 1 percentage: 0.7333333333333333, top 5 percentage: 0.8266666666666667\n"
     ]
    }
   ],
   "source": [
    "_ = test_query(single_group_embeddings, 'Number of participants')"
   ]
  },
  {
   "cell_type": "code",
   "execution_count": 237,
   "id": "bbd5f0fd-63ec-4037-b849-ca011011b5ea",
   "metadata": {},
   "outputs": [
    {
     "name": "stdout",
     "output_type": "stream",
     "text": [
      "Mean rank: 2.8266666666666667, top 1 percentage: 0.76, top 5 percentage: 0.8266666666666667\n"
     ]
    }
   ],
   "source": [
    "_ = test_query(single_group_embeddings, 'How many participants were recruited for this study?')"
   ]
  },
  {
   "cell_type": "code",
   "execution_count": 239,
   "id": "e66ddea2-ddbb-4065-9b8f-1fa5b6f2de7e",
   "metadata": {},
   "outputs": [
    {
     "name": "stdout",
     "output_type": "stream",
     "text": [
      "Mean rank: 2.6666666666666665, top 1 percentage: 0.5333333333333333, top 5 percentage: 0.8133333333333334\n"
     ]
    }
   ],
   "source": [
    "_ = test_query(single_group_embeddings, 'The number of subjects or participants that were involved in the study or underwent MRI')"
   ]
  }
 ],
 "metadata": {
  "kernelspec": {
   "display_name": "Python 3 (ipykernel)",
   "language": "python",
   "name": "python3"
  },
  "language_info": {
   "codemirror_mode": {
    "name": "ipython",
    "version": 3
   },
   "file_extension": ".py",
   "mimetype": "text/x-python",
   "name": "python",
   "nbconvert_exporter": "python",
   "pygments_lexer": "ipython3",
   "version": "3.11.4"
  }
 },
 "nbformat": 4,
 "nbformat_minor": 5
}
