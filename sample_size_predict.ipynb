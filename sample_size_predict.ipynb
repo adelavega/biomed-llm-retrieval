{
 "cells": [
  {
   "cell_type": "markdown",
   "id": "92b1be86",
   "metadata": {},
   "source": [
    "# Prototype Sample Size extraction using GPT\n",
    "\n",
    "Goal: Test prompt engineering on the easiest use case: single "
   ]
  },
  {
   "cell_type": "code",
   "execution_count": 1,
   "id": "4a04a86b",
   "metadata": {},
   "outputs": [],
   "source": [
    "import pandas as pd\n",
    "from labelrepo.projects.participant_demographics import (\n",
    "    get_participant_demographics,\n",
    ")\n",
    "\n",
    "subgroups = get_participant_demographics()"
   ]
  },
  {
   "cell_type": "code",
   "execution_count": 2,
   "id": "eb79e014",
   "metadata": {},
   "outputs": [],
   "source": [
    "abstracts = pd.read_csv('data/abstracts.csv')"
   ]
  },
  {
   "cell_type": "code",
   "execution_count": 3,
   "id": "5e751e67",
   "metadata": {},
   "outputs": [],
   "source": [
    "jerome_pd = subgroups[(subgroups.project_name == 'participant_demographics') & (subgroups.annotator_name == 'Jerome_Dockes')]"
   ]
  },
  {
   "cell_type": "code",
   "execution_count": 4,
   "id": "93b67acd",
   "metadata": {},
   "outputs": [],
   "source": [
    "counts = jerome_pd.groupby('pmcid').count().reset_index()\n",
    "single_group_pmcids = counts[counts['count'] == 1].pmcid"
   ]
  },
  {
   "cell_type": "markdown",
   "id": "9271d1f8",
   "metadata": {},
   "source": [
    "### Single group with Sample Size in Abstract"
   ]
  },
  {
   "cell_type": "code",
   "execution_count": 5,
   "id": "ccb83131",
   "metadata": {},
   "outputs": [],
   "source": [
    "single_group = jerome_pd[jerome_pd.pmcid.isin(single_group_pmcids)]"
   ]
  },
  {
   "cell_type": "code",
   "execution_count": 6,
   "id": "6d3fb521",
   "metadata": {},
   "outputs": [],
   "source": [
    "single_group = pd.merge(single_group, abstracts[abstracts.pmcid.isin(single_group.pmcid)])"
   ]
  },
  {
   "cell_type": "code",
   "execution_count": 7,
   "id": "757d9cba",
   "metadata": {},
   "outputs": [],
   "source": [
    "# Heuristic for finding in abstract studies\n",
    "# Using fixed list below after manual checking\n",
    "# single_group['in_abstract'] = \\\n",
    "#  single_group.apply(lambda x: (re.search(f\"\\D{x['count']}\", x.abstract) != None), axis = 1)"
   ]
  },
  {
   "cell_type": "code",
   "execution_count": 8,
   "id": "0539dcb1",
   "metadata": {},
   "outputs": [],
   "source": [
    "# Manual list\n",
    "not_in_abstract = [5548834, 4029023, 4318429, 5324609, 8752963, 5218407, 3147157, 2775905, 6344389, 8837589, 7430162, 7563756, 7156375, 4330553, 6989437, 6328158, 3409150, 3775427, 3483694, 6787094, 6528067, 3869649, 3183226, 6868994, 7002496, 6492297, 3780305]"
   ]
  },
  {
   "cell_type": "code",
   "execution_count": 9,
   "id": "b3c14734",
   "metadata": {},
   "outputs": [],
   "source": [
    "single_group['in_abstract'] = single_group.pmcid.isin(not_in_abstract) == False"
   ]
  },
  {
   "cell_type": "markdown",
   "id": "f18e3ce7",
   "metadata": {},
   "source": [
    "## Extract simple sample size"
   ]
  },
  {
   "cell_type": "code",
   "execution_count": 10,
   "id": "426716fa",
   "metadata": {},
   "outputs": [],
   "source": [
    "import openai\n",
    "from templates import ZERO_SHOT_SINGLE_GROUP_DEMOGRAPHICS\n",
    "from extract import extract_from_multiple\n",
    "\n",
    "openai.api_key = open('/home/zorro/.keys/open_ai.key').read().strip()"
   ]
  },
  {
   "cell_type": "code",
   "execution_count": null,
   "id": "77f89131",
   "metadata": {
    "scrolled": false
   },
   "outputs": [
    {
     "name": "stderr",
     "output_type": "stream",
     "text": [
      " 32%|█████████████▊                             | 24/75 [00:11<00:19,  2.56it/s]"
     ]
    }
   ],
   "source": [
    "predictions = extract_from_multiple(single_group.abstract.to_list(), \n",
    "                                    **ZERO_SHOT_SINGLE_GROUP_DEMOGRAPHICS, num_workers=3)"
   ]
  },
  {
   "cell_type": "code",
   "execution_count": null,
   "id": "7954ab42",
   "metadata": {},
   "outputs": [],
   "source": [
    "# Normalize values\n",
    "predictions['pmcid'] = single_group['pmcid']\n",
    "predictions['count'] = predictions['count'].astype('str')\n",
    "single_group['count'] = single_group['count'].astype('str')\n",
    "\n",
    "predictions['correct'] = single_group['count'] == predictions['count']"
   ]
  },
  {
   "cell_type": "code",
   "execution_count": null,
   "id": "920a9910",
   "metadata": {},
   "outputs": [],
   "source": [
    "ZERO_SHOT_SINGLE_GROUP_DEMOGRAPHICS"
   ]
  },
  {
   "cell_type": "markdown",
   "id": "680d8b07",
   "metadata": {},
   "source": [
    "### Only look at those with sample size in abstract"
   ]
  },
  {
   "cell_type": "code",
   "execution_count": null,
   "id": "f612166c",
   "metadata": {},
   "outputs": [],
   "source": [
    "in_abstract_predictions = predictions[single_group['in_abstract']]"
   ]
  },
  {
   "cell_type": "code",
   "execution_count": null,
   "id": "1e324fe9",
   "metadata": {},
   "outputs": [],
   "source": [
    "# Percentage correct\n",
    "in_abstract_predictions['correct'].mean()"
   ]
  },
  {
   "cell_type": "code",
   "execution_count": null,
   "id": "4fe0fd5f",
   "metadata": {},
   "outputs": [],
   "source": [
    "# Incorrect predictions\n",
    "in_abstract_predictions[in_abstract_predictions['correct'] == False]"
   ]
  },
  {
   "cell_type": "markdown",
   "id": "8433ecbe",
   "metadata": {},
   "source": [
    "Notes: First error is due to pulling out sample size for behavioral task, not fMRI task. \n",
    "\n",
    "Second error is due to study being a single subject study."
   ]
  },
  {
   "cell_type": "markdown",
   "id": "f59404f2",
   "metadata": {},
   "source": [
    "### Any hallucinations?"
   ]
  },
  {
   "cell_type": "code",
   "execution_count": null,
   "id": "10f5aa4a",
   "metadata": {},
   "outputs": [],
   "source": [
    "no_abstract_predictions = predictions[single_group['in_abstract'] == False]"
   ]
  },
  {
   "cell_type": "code",
   "execution_count": null,
   "id": "83498484",
   "metadata": {},
   "outputs": [],
   "source": [
    "# Predicted `n/a` or got correct answer (i.e. misclassified as not having info in abstract)\n",
    "((no_abstract_predictions['count'] == 'n/a')).mean()"
   ]
  },
  {
   "cell_type": "code",
   "execution_count": null,
   "id": "11b7edf3",
   "metadata": {},
   "outputs": [],
   "source": [
    "# Studies where the model was wrong, and did not predict an `n/a`\n",
    "no_abstract_predictions[(no_abstract_predictions['count'] != 'n/a') & (no_abstract_predictions['correct'] == False)]"
   ]
  },
  {
   "cell_type": "markdown",
   "id": "b4c1a707",
   "metadata": {},
   "source": [
    "Overall notes: \n",
    "\n",
    "Errors:\n",
    "- 2 error due to discrepancy between methods and abstract count (final n vs starting n)\n",
    "- 1 n/a should be = 1\n",
    "- 1 was for behavioral count, not fMRI count\n",
    "\n",
    "False positives:\n",
    "- Age was extracted instead of sample size\n",
    "\n",
    "\n",
    "Excluding abstract/full-text discrepancies, error rate is 3/75"
   ]
  },
  {
   "cell_type": "markdown",
   "id": "f4bc9245",
   "metadata": {},
   "source": [
    "### View incorrect abstracts"
   ]
  },
  {
   "cell_type": "code",
   "execution_count": null,
   "id": "594cf9e3",
   "metadata": {},
   "outputs": [],
   "source": [
    "pmcid = 7005761\n",
    "text = abstracts[abstracts.pmcid == pmcid]['abstract'].tolist()[0].encode(\"ascii\", \"ignore\").decode()"
   ]
  },
  {
   "cell_type": "code",
   "execution_count": null,
   "id": "d6df5756",
   "metadata": {},
   "outputs": [],
   "source": [
    "text"
   ]
  },
  {
   "cell_type": "code",
   "execution_count": null,
   "id": "07290508",
   "metadata": {},
   "outputs": [],
   "source": [
    "single_group[single_group.pmcid == pmcid]"
   ]
  }
 ],
 "metadata": {
  "kernelspec": {
   "display_name": "Python 3 (ipykernel)",
   "language": "python",
   "name": "python3"
  },
  "language_info": {
   "codemirror_mode": {
    "name": "ipython",
    "version": 3
   },
   "file_extension": ".py",
   "mimetype": "text/x-python",
   "name": "python",
   "nbconvert_exporter": "python",
   "pygments_lexer": "ipython3",
   "version": "3.9.7"
  }
 },
 "nbformat": 4,
 "nbformat_minor": 5
}
