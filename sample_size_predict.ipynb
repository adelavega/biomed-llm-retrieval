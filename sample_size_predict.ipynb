{
 "cells": [
  {
   "cell_type": "markdown",
   "id": "fc6324b3",
   "metadata": {},
   "source": [
    "# Prototype Sample Size extraction using GPT\n",
    "\n",
    "Goal: Test prompt engineering on the easiest use case: single "
   ]
  },
  {
   "cell_type": "code",
   "execution_count": 1,
   "id": "4a04a86b",
   "metadata": {},
   "outputs": [
    {
     "data": {
      "text/plain": [
       "group_name                              patients\n",
       "subgroup_name                                 va\n",
       "project_name                          autism_mri\n",
       "annotator_name                     David_Kennedy\n",
       "pmcid                                    9230060\n",
       "diagnosis         criminals committing affective\n",
       "count                                          6\n",
       "male count                                   6.0\n",
       "age mean                                     NaN\n",
       "female count                                 NaN\n",
       "age minimum                                  NaN\n",
       "age maximum                                  NaN\n",
       "age median                                   NaN\n",
       "Name: 0, dtype: object"
      ]
     },
     "execution_count": 1,
     "metadata": {},
     "output_type": "execute_result"
    }
   ],
   "source": [
    "import pandas as pd\n",
    "from labelrepo.projects.participant_demographics import (\n",
    "    get_participant_demographics,\n",
    ")\n",
    "\n",
    "subgroups = get_participant_demographics()\n",
    "subgroups.iloc[0]"
   ]
  },
  {
   "cell_type": "code",
   "execution_count": 2,
   "id": "eb79e014",
   "metadata": {},
   "outputs": [],
   "source": [
    "abstracts = pd.read_csv('data/abstracts.csv')"
   ]
  },
  {
   "cell_type": "code",
   "execution_count": 3,
   "id": "5e751e67",
   "metadata": {},
   "outputs": [],
   "source": [
    "jerome_pd = subgroups[(subgroups.project_name == 'participant_demographics') & (subgroups.annotator_name == 'Jerome_Dockes')]"
   ]
  },
  {
   "cell_type": "code",
   "execution_count": 4,
   "id": "3a250b78",
   "metadata": {},
   "outputs": [
    {
     "data": {
      "text/html": [
       "<div>\n",
       "<style scoped>\n",
       "    .dataframe tbody tr th:only-of-type {\n",
       "        vertical-align: middle;\n",
       "    }\n",
       "\n",
       "    .dataframe tbody tr th {\n",
       "        vertical-align: top;\n",
       "    }\n",
       "\n",
       "    .dataframe thead th {\n",
       "        text-align: right;\n",
       "    }\n",
       "</style>\n",
       "<table border=\"1\" class=\"dataframe\">\n",
       "  <thead>\n",
       "    <tr style=\"text-align: right;\">\n",
       "      <th></th>\n",
       "      <th>group_name</th>\n",
       "      <th>subgroup_name</th>\n",
       "      <th>project_name</th>\n",
       "      <th>annotator_name</th>\n",
       "      <th>pmcid</th>\n",
       "      <th>diagnosis</th>\n",
       "      <th>count</th>\n",
       "      <th>male count</th>\n",
       "      <th>age mean</th>\n",
       "      <th>female count</th>\n",
       "      <th>age minimum</th>\n",
       "      <th>age maximum</th>\n",
       "      <th>age median</th>\n",
       "    </tr>\n",
       "  </thead>\n",
       "  <tbody>\n",
       "    <tr>\n",
       "      <th>5</th>\n",
       "      <td>healthy</td>\n",
       "      <td>phobic prone</td>\n",
       "      <td>participant_demographics</td>\n",
       "      <td>Jerome_Dockes</td>\n",
       "      <td>3002948</td>\n",
       "      <td>NaN</td>\n",
       "      <td>15</td>\n",
       "      <td>9.0</td>\n",
       "      <td>39.2</td>\n",
       "      <td>6.0</td>\n",
       "      <td>NaN</td>\n",
       "      <td>NaN</td>\n",
       "      <td>NaN</td>\n",
       "    </tr>\n",
       "    <tr>\n",
       "      <th>6</th>\n",
       "      <td>healthy</td>\n",
       "      <td>eating disorders prone</td>\n",
       "      <td>participant_demographics</td>\n",
       "      <td>Jerome_Dockes</td>\n",
       "      <td>3002948</td>\n",
       "      <td>NaN</td>\n",
       "      <td>15</td>\n",
       "      <td>10.0</td>\n",
       "      <td>34.4</td>\n",
       "      <td>5.0</td>\n",
       "      <td>NaN</td>\n",
       "      <td>NaN</td>\n",
       "      <td>NaN</td>\n",
       "    </tr>\n",
       "  </tbody>\n",
       "</table>\n",
       "</div>"
      ],
      "text/plain": [
       "  group_name           subgroup_name              project_name annotator_name  \\\n",
       "5    healthy            phobic prone  participant_demographics  Jerome_Dockes   \n",
       "6    healthy  eating disorders prone  participant_demographics  Jerome_Dockes   \n",
       "\n",
       "     pmcid diagnosis  count  male count  age mean  female count  age minimum  \\\n",
       "5  3002948       NaN     15         9.0      39.2           6.0          NaN   \n",
       "6  3002948       NaN     15        10.0      34.4           5.0          NaN   \n",
       "\n",
       "   age maximum  age median  \n",
       "5          NaN         NaN  \n",
       "6          NaN         NaN  "
      ]
     },
     "execution_count": 4,
     "metadata": {},
     "output_type": "execute_result"
    }
   ],
   "source": [
    "jerome_pd[jerome_pd.pmcid == 3002948]"
   ]
  },
  {
   "cell_type": "code",
   "execution_count": 5,
   "id": "93b67acd",
   "metadata": {},
   "outputs": [],
   "source": [
    "counts = jerome_pd.groupby('pmcid').count().reset_index()\n",
    "single_group_pmcids = counts[counts['count'] == 1].pmcid"
   ]
  },
  {
   "cell_type": "markdown",
   "id": "4b791f8c",
   "metadata": {},
   "source": [
    "### Single group with SS in Abstract"
   ]
  },
  {
   "cell_type": "code",
   "execution_count": 6,
   "id": "ccb83131",
   "metadata": {},
   "outputs": [],
   "source": [
    "single_group = jerome_pd[jerome_pd.pmcid.isin(single_group_pmcids)]"
   ]
  },
  {
   "cell_type": "code",
   "execution_count": 7,
   "id": "e89d748f",
   "metadata": {},
   "outputs": [
    {
     "data": {
      "text/html": [
       "<div>\n",
       "<style scoped>\n",
       "    .dataframe tbody tr th:only-of-type {\n",
       "        vertical-align: middle;\n",
       "    }\n",
       "\n",
       "    .dataframe tbody tr th {\n",
       "        vertical-align: top;\n",
       "    }\n",
       "\n",
       "    .dataframe thead th {\n",
       "        text-align: right;\n",
       "    }\n",
       "</style>\n",
       "<table border=\"1\" class=\"dataframe\">\n",
       "  <thead>\n",
       "    <tr style=\"text-align: right;\">\n",
       "      <th></th>\n",
       "      <th>group_name</th>\n",
       "      <th>subgroup_name</th>\n",
       "      <th>project_name</th>\n",
       "      <th>annotator_name</th>\n",
       "      <th>pmcid</th>\n",
       "      <th>diagnosis</th>\n",
       "      <th>count</th>\n",
       "      <th>male count</th>\n",
       "      <th>age mean</th>\n",
       "      <th>female count</th>\n",
       "      <th>age minimum</th>\n",
       "      <th>age maximum</th>\n",
       "      <th>age median</th>\n",
       "    </tr>\n",
       "  </thead>\n",
       "  <tbody>\n",
       "    <tr>\n",
       "      <th>11</th>\n",
       "      <td>healthy</td>\n",
       "      <td>_</td>\n",
       "      <td>participant_demographics</td>\n",
       "      <td>Jerome_Dockes</td>\n",
       "      <td>7989009</td>\n",
       "      <td>NaN</td>\n",
       "      <td>29</td>\n",
       "      <td>16.0</td>\n",
       "      <td>23.60</td>\n",
       "      <td>13.0</td>\n",
       "      <td>21.0</td>\n",
       "      <td>33.0</td>\n",
       "      <td>NaN</td>\n",
       "    </tr>\n",
       "    <tr>\n",
       "      <th>12</th>\n",
       "      <td>healthy</td>\n",
       "      <td>_</td>\n",
       "      <td>participant_demographics</td>\n",
       "      <td>Jerome_Dockes</td>\n",
       "      <td>5776089</td>\n",
       "      <td>NaN</td>\n",
       "      <td>21</td>\n",
       "      <td>21.0</td>\n",
       "      <td>25.77</td>\n",
       "      <td>NaN</td>\n",
       "      <td>20.0</td>\n",
       "      <td>40.0</td>\n",
       "      <td>NaN</td>\n",
       "    </tr>\n",
       "    <tr>\n",
       "      <th>13</th>\n",
       "      <td>healthy</td>\n",
       "      <td>_</td>\n",
       "      <td>participant_demographics</td>\n",
       "      <td>Jerome_Dockes</td>\n",
       "      <td>4029023</td>\n",
       "      <td>NaN</td>\n",
       "      <td>10</td>\n",
       "      <td>7.0</td>\n",
       "      <td>27.72</td>\n",
       "      <td>3.0</td>\n",
       "      <td>NaN</td>\n",
       "      <td>NaN</td>\n",
       "      <td>NaN</td>\n",
       "    </tr>\n",
       "    <tr>\n",
       "      <th>14</th>\n",
       "      <td>healthy</td>\n",
       "      <td>_</td>\n",
       "      <td>participant_demographics</td>\n",
       "      <td>Jerome_Dockes</td>\n",
       "      <td>4318429</td>\n",
       "      <td>NaN</td>\n",
       "      <td>18</td>\n",
       "      <td>9.0</td>\n",
       "      <td>NaN</td>\n",
       "      <td>9.0</td>\n",
       "      <td>20.0</td>\n",
       "      <td>32.0</td>\n",
       "      <td>NaN</td>\n",
       "    </tr>\n",
       "    <tr>\n",
       "      <th>17</th>\n",
       "      <td>patients</td>\n",
       "      <td>_</td>\n",
       "      <td>participant_demographics</td>\n",
       "      <td>Jerome_Dockes</td>\n",
       "      <td>9308181</td>\n",
       "      <td>tuberous sclerosis complex</td>\n",
       "      <td>173</td>\n",
       "      <td>NaN</td>\n",
       "      <td>NaN</td>\n",
       "      <td>NaN</td>\n",
       "      <td>NaN</td>\n",
       "      <td>NaN</td>\n",
       "      <td>NaN</td>\n",
       "    </tr>\n",
       "    <tr>\n",
       "      <th>...</th>\n",
       "      <td>...</td>\n",
       "      <td>...</td>\n",
       "      <td>...</td>\n",
       "      <td>...</td>\n",
       "      <td>...</td>\n",
       "      <td>...</td>\n",
       "      <td>...</td>\n",
       "      <td>...</td>\n",
       "      <td>...</td>\n",
       "      <td>...</td>\n",
       "      <td>...</td>\n",
       "      <td>...</td>\n",
       "      <td>...</td>\n",
       "    </tr>\n",
       "    <tr>\n",
       "      <th>243</th>\n",
       "      <td>patients</td>\n",
       "      <td>_</td>\n",
       "      <td>participant_demographics</td>\n",
       "      <td>Jerome_Dockes</td>\n",
       "      <td>6667657</td>\n",
       "      <td>chronic tinnitus</td>\n",
       "      <td>12</td>\n",
       "      <td>NaN</td>\n",
       "      <td>NaN</td>\n",
       "      <td>NaN</td>\n",
       "      <td>NaN</td>\n",
       "      <td>NaN</td>\n",
       "      <td>NaN</td>\n",
       "    </tr>\n",
       "    <tr>\n",
       "      <th>246</th>\n",
       "      <td>healthy</td>\n",
       "      <td>_</td>\n",
       "      <td>participant_demographics</td>\n",
       "      <td>Jerome_Dockes</td>\n",
       "      <td>7002496</td>\n",
       "      <td>NaN</td>\n",
       "      <td>20</td>\n",
       "      <td>10.0</td>\n",
       "      <td>22.30</td>\n",
       "      <td>10.0</td>\n",
       "      <td>19.0</td>\n",
       "      <td>28.0</td>\n",
       "      <td>NaN</td>\n",
       "    </tr>\n",
       "    <tr>\n",
       "      <th>247</th>\n",
       "      <td>healthy</td>\n",
       "      <td>_</td>\n",
       "      <td>participant_demographics</td>\n",
       "      <td>Jerome_Dockes</td>\n",
       "      <td>3676955</td>\n",
       "      <td>NaN</td>\n",
       "      <td>33</td>\n",
       "      <td>17.0</td>\n",
       "      <td>25.30</td>\n",
       "      <td>16.0</td>\n",
       "      <td>NaN</td>\n",
       "      <td>NaN</td>\n",
       "      <td>NaN</td>\n",
       "    </tr>\n",
       "    <tr>\n",
       "      <th>248</th>\n",
       "      <td>healthy</td>\n",
       "      <td>HCP</td>\n",
       "      <td>participant_demographics</td>\n",
       "      <td>Jerome_Dockes</td>\n",
       "      <td>6492297</td>\n",
       "      <td>NaN</td>\n",
       "      <td>820</td>\n",
       "      <td>NaN</td>\n",
       "      <td>NaN</td>\n",
       "      <td>NaN</td>\n",
       "      <td>NaN</td>\n",
       "      <td>NaN</td>\n",
       "      <td>NaN</td>\n",
       "    </tr>\n",
       "    <tr>\n",
       "      <th>249</th>\n",
       "      <td>patients</td>\n",
       "      <td>_</td>\n",
       "      <td>participant_demographics</td>\n",
       "      <td>Jerome_Dockes</td>\n",
       "      <td>6509414</td>\n",
       "      <td>hearing loss</td>\n",
       "      <td>26</td>\n",
       "      <td>NaN</td>\n",
       "      <td>NaN</td>\n",
       "      <td>NaN</td>\n",
       "      <td>NaN</td>\n",
       "      <td>NaN</td>\n",
       "      <td>NaN</td>\n",
       "    </tr>\n",
       "  </tbody>\n",
       "</table>\n",
       "<p>75 rows × 13 columns</p>\n",
       "</div>"
      ],
      "text/plain": [
       "    group_name subgroup_name              project_name annotator_name  \\\n",
       "11     healthy             _  participant_demographics  Jerome_Dockes   \n",
       "12     healthy             _  participant_demographics  Jerome_Dockes   \n",
       "13     healthy             _  participant_demographics  Jerome_Dockes   \n",
       "14     healthy             _  participant_demographics  Jerome_Dockes   \n",
       "17    patients             _  participant_demographics  Jerome_Dockes   \n",
       "..         ...           ...                       ...            ...   \n",
       "243   patients             _  participant_demographics  Jerome_Dockes   \n",
       "246    healthy             _  participant_demographics  Jerome_Dockes   \n",
       "247    healthy             _  participant_demographics  Jerome_Dockes   \n",
       "248    healthy           HCP  participant_demographics  Jerome_Dockes   \n",
       "249   patients             _  participant_demographics  Jerome_Dockes   \n",
       "\n",
       "       pmcid                   diagnosis  count  male count  age mean  \\\n",
       "11   7989009                         NaN     29        16.0     23.60   \n",
       "12   5776089                         NaN     21        21.0     25.77   \n",
       "13   4029023                         NaN     10         7.0     27.72   \n",
       "14   4318429                         NaN     18         9.0       NaN   \n",
       "17   9308181  tuberous sclerosis complex    173         NaN       NaN   \n",
       "..       ...                         ...    ...         ...       ...   \n",
       "243  6667657            chronic tinnitus     12         NaN       NaN   \n",
       "246  7002496                         NaN     20        10.0     22.30   \n",
       "247  3676955                         NaN     33        17.0     25.30   \n",
       "248  6492297                         NaN    820         NaN       NaN   \n",
       "249  6509414                hearing loss     26         NaN       NaN   \n",
       "\n",
       "     female count  age minimum  age maximum  age median  \n",
       "11           13.0         21.0         33.0         NaN  \n",
       "12            NaN         20.0         40.0         NaN  \n",
       "13            3.0          NaN          NaN         NaN  \n",
       "14            9.0         20.0         32.0         NaN  \n",
       "17            NaN          NaN          NaN         NaN  \n",
       "..            ...          ...          ...         ...  \n",
       "243           NaN          NaN          NaN         NaN  \n",
       "246          10.0         19.0         28.0         NaN  \n",
       "247          16.0          NaN          NaN         NaN  \n",
       "248           NaN          NaN          NaN         NaN  \n",
       "249           NaN          NaN          NaN         NaN  \n",
       "\n",
       "[75 rows x 13 columns]"
      ]
     },
     "execution_count": 7,
     "metadata": {},
     "output_type": "execute_result"
    }
   ],
   "source": [
    "single_group"
   ]
  },
  {
   "cell_type": "code",
   "execution_count": 8,
   "id": "6d3fb521",
   "metadata": {},
   "outputs": [],
   "source": [
    "single_group = pd.merge(single_group, abstracts[abstracts.pmcid.isin(single_group.pmcid)])"
   ]
  },
  {
   "cell_type": "code",
   "execution_count": 9,
   "id": "15ca67b7",
   "metadata": {},
   "outputs": [],
   "source": [
    "# Heuristic for finding in abstract studies\n",
    "# Using fixed list below after manual checking\n",
    "# single_group['in_abstract'] = \\\n",
    "#  single_group.apply(lambda x: (re.search(f\"\\D{x['count']}\", x.abstract) != None), axis = 1)"
   ]
  },
  {
   "cell_type": "code",
   "execution_count": 10,
   "id": "3a4d54f7",
   "metadata": {},
   "outputs": [],
   "source": [
    "not_in_abstract = [4029023, 4318429, 5324609, 8752963, 5218407, 3147157, 2775905, 6344389, 8837589, 7430162, 7563756, 7156375, 4330553, 6989437, 6328158, 3409150, 3775427, 3483694, 6787094, 6528067, 3869649, 3183226, 6868994, 7002496, 6492297, 3780305]\n"
   ]
  },
  {
   "cell_type": "code",
   "execution_count": 11,
   "id": "a3b207bf",
   "metadata": {},
   "outputs": [],
   "source": [
    "single_group['in_abstract'] = single_group.pmcid.isin(not_in_abstract) == False"
   ]
  },
  {
   "cell_type": "markdown",
   "id": "e7776e43",
   "metadata": {},
   "source": [
    "## Extract simple sample size"
   ]
  },
  {
   "cell_type": "code",
   "execution_count": 12,
   "id": "3a07bc32",
   "metadata": {},
   "outputs": [],
   "source": [
    "import openai\n",
    "from templates import ZERO_SHOT_SINGLE_GROUP_DEMOGRAPHICS\n",
    "from extract import extract_from_multiple\n",
    "\n",
    "openai.api_key = open('/home/zorro/.keys/open_ai.key').read().strip()"
   ]
  },
  {
   "cell_type": "code",
   "execution_count": 13,
   "id": "f5e5e6ae",
   "metadata": {
    "scrolled": false
   },
   "outputs": [
    {
     "name": "stderr",
     "output_type": "stream",
     "text": [
      "100%|███████████████████████████████████████████| 75/75 [00:34<00:00,  2.14it/s]\n"
     ]
    }
   ],
   "source": [
    "predictions = extract_from_multiple(single_group.abstract.to_list(), **ZERO_SHOT_SINGLE_GROUP_DEMOGRAPHICS)"
   ]
  },
  {
   "cell_type": "code",
   "execution_count": 65,
   "id": "cfa1c666",
   "metadata": {},
   "outputs": [],
   "source": [
    "# Normalize values\n",
    "predictions['pmcid'] = single_group['pmcid']\n",
    "predictions['count'] = predictions['count'].astype('str')\n",
    "single_group['count'] = single_group['count'].astype('str')\n",
    "\n",
    "predictions['correct'] = single_group['count'] == predictions['count']"
   ]
  },
  {
   "cell_type": "code",
   "execution_count": 66,
   "id": "308740aa",
   "metadata": {},
   "outputs": [
    {
     "data": {
      "text/plain": [
       "0.9466666666666667"
      ]
     },
     "execution_count": 66,
     "metadata": {},
     "output_type": "execute_result"
    }
   ],
   "source": [
    "# Overall accuracy (either got correct answer, or said `n/a` )\n",
    "((predictions['count'] == 'n/a') | (predictions['correct'])).mean()"
   ]
  },
  {
   "cell_type": "markdown",
   "id": "6fab9be7",
   "metadata": {},
   "source": [
    "### Only look at those with sample size in abstract"
   ]
  },
  {
   "cell_type": "code",
   "execution_count": 69,
   "id": "60b1ebc9",
   "metadata": {},
   "outputs": [],
   "source": [
    "in_abstract_predictions = predictions[single_group['in_abstract']]"
   ]
  },
  {
   "cell_type": "code",
   "execution_count": 70,
   "id": "063e39d2",
   "metadata": {},
   "outputs": [
    {
     "data": {
      "text/plain": [
       "0.8979591836734694"
      ]
     },
     "execution_count": 70,
     "metadata": {},
     "output_type": "execute_result"
    }
   ],
   "source": [
    "# Percentage correct\n",
    "in_abstract_predictions['correct'].mean()"
   ]
  },
  {
   "cell_type": "code",
   "execution_count": 71,
   "id": "474407de",
   "metadata": {},
   "outputs": [
    {
     "data": {
      "text/html": [
       "<div>\n",
       "<style scoped>\n",
       "    .dataframe tbody tr th:only-of-type {\n",
       "        vertical-align: middle;\n",
       "    }\n",
       "\n",
       "    .dataframe tbody tr th {\n",
       "        vertical-align: top;\n",
       "    }\n",
       "\n",
       "    .dataframe thead th {\n",
       "        text-align: right;\n",
       "    }\n",
       "</style>\n",
       "<table border=\"1\" class=\"dataframe\">\n",
       "  <thead>\n",
       "    <tr style=\"text-align: right;\">\n",
       "      <th></th>\n",
       "      <th>count</th>\n",
       "      <th>pmcid</th>\n",
       "      <th>correct</th>\n",
       "    </tr>\n",
       "  </thead>\n",
       "  <tbody>\n",
       "    <tr>\n",
       "      <th>14</th>\n",
       "      <td>69</td>\n",
       "      <td>5460048</td>\n",
       "      <td>False</td>\n",
       "    </tr>\n",
       "    <tr>\n",
       "      <th>26</th>\n",
       "      <td>n/a</td>\n",
       "      <td>8978988</td>\n",
       "      <td>False</td>\n",
       "    </tr>\n",
       "    <tr>\n",
       "      <th>40</th>\n",
       "      <td>n/a</td>\n",
       "      <td>5548834</td>\n",
       "      <td>False</td>\n",
       "    </tr>\n",
       "    <tr>\n",
       "      <th>56</th>\n",
       "      <td>79</td>\n",
       "      <td>6678781</td>\n",
       "      <td>False</td>\n",
       "    </tr>\n",
       "    <tr>\n",
       "      <th>74</th>\n",
       "      <td>27</td>\n",
       "      <td>6509414</td>\n",
       "      <td>False</td>\n",
       "    </tr>\n",
       "  </tbody>\n",
       "</table>\n",
       "</div>"
      ],
      "text/plain": [
       "   count    pmcid  correct\n",
       "14    69  5460048    False\n",
       "26   n/a  8978988    False\n",
       "40   n/a  5548834    False\n",
       "56    79  6678781    False\n",
       "74    27  6509414    False"
      ]
     },
     "execution_count": 71,
     "metadata": {},
     "output_type": "execute_result"
    }
   ],
   "source": [
    "# Incorrect predictions\n",
    "in_abstract_predictions[in_abstract_predictions['correct'] == False]"
   ]
  },
  {
   "cell_type": "markdown",
   "id": "22207eb8",
   "metadata": {},
   "source": [
    "Notes: First error is due to pulling out sample size for behavioral task, not fMRI task. \n",
    "\n",
    "Second error is due to study being a single subject study.\n",
    "\n",
    "notes:\n",
    "- 2 error due to discrepancy between methods and abstract count (final n vs starting n)\n",
    "- 0 should be n/a\n",
    "- 1 was for behavioral count, not fMRI count\n",
    "- 1 was plainly incorrect (age instead of sample size)\n",
    "-  "
   ]
  },
  {
   "cell_type": "markdown",
   "id": "a568e612",
   "metadata": {},
   "source": [
    "### Any hallucinations?"
   ]
  },
  {
   "cell_type": "code",
   "execution_count": 72,
   "id": "6189210c",
   "metadata": {},
   "outputs": [],
   "source": [
    "no_abstract_predictions = predictions[single_group['in_abstract'] == False]"
   ]
  },
  {
   "cell_type": "code",
   "execution_count": 73,
   "id": "05299ea4",
   "metadata": {},
   "outputs": [
    {
     "data": {
      "text/plain": [
       "0.9615384615384616"
      ]
     },
     "execution_count": 73,
     "metadata": {},
     "output_type": "execute_result"
    }
   ],
   "source": [
    "# Predicted `n/a` or got correct answer (i.e. misclassified as not having info in abstract)\n",
    "((no_abstract_predictions['count'] == 'n/a')).mean()"
   ]
  },
  {
   "cell_type": "code",
   "execution_count": 74,
   "id": "e7d81b1b",
   "metadata": {},
   "outputs": [
    {
     "data": {
      "text/html": [
       "<div>\n",
       "<style scoped>\n",
       "    .dataframe tbody tr th:only-of-type {\n",
       "        vertical-align: middle;\n",
       "    }\n",
       "\n",
       "    .dataframe tbody tr th {\n",
       "        vertical-align: top;\n",
       "    }\n",
       "\n",
       "    .dataframe thead th {\n",
       "        text-align: right;\n",
       "    }\n",
       "</style>\n",
       "<table border=\"1\" class=\"dataframe\">\n",
       "  <thead>\n",
       "    <tr style=\"text-align: right;\">\n",
       "      <th></th>\n",
       "      <th>count</th>\n",
       "      <th>pmcid</th>\n",
       "      <th>correct</th>\n",
       "    </tr>\n",
       "  </thead>\n",
       "  <tbody>\n",
       "    <tr>\n",
       "      <th>60</th>\n",
       "      <td>7</td>\n",
       "      <td>3780305</td>\n",
       "      <td>False</td>\n",
       "    </tr>\n",
       "  </tbody>\n",
       "</table>\n",
       "</div>"
      ],
      "text/plain": [
       "   count    pmcid  correct\n",
       "60     7  3780305    False"
      ]
     },
     "execution_count": 74,
     "metadata": {},
     "output_type": "execute_result"
    }
   ],
   "source": [
    "# Studies where the model was wrong, and did not predict an `n/a`\n",
    "no_abstract_predictions[(no_abstract_predictions['count'] != 'n/a') & (no_abstract_predictions['correct'] == False)]"
   ]
  },
  {
   "cell_type": "markdown",
   "id": "10e5c1de",
   "metadata": {},
   "source": [
    "Notes: No false negative (i.e. all studies marked as `n/a` had no info in abstract)"
   ]
  },
  {
   "cell_type": "markdown",
   "id": "8bf21e1d",
   "metadata": {},
   "source": [
    "### View incorrect abstracts"
   ]
  },
  {
   "cell_type": "code",
   "execution_count": 46,
   "id": "2a256a7b",
   "metadata": {},
   "outputs": [],
   "source": [
    "pmcid = 4075342\n",
    "text = abstracts[abstracts.pmcid == pmcid]['abstract'].tolist()[0].encode(\"ascii\", \"ignore\").decode()"
   ]
  },
  {
   "cell_type": "code",
   "execution_count": 47,
   "id": "d194a307",
   "metadata": {},
   "outputs": [
    {
     "data": {
      "text/plain": [
       "' \\n## Objectives \\n  \\nPrevious fMRI studies have demonstrated that glucose decreases the hypothalamic BOLD response in humans. However, the mechanisms underlying the CNS response to glucose have not been defined. We recently demonstrated that the slowing of gastric emptying by glucose is dependent on activation of the gut peptide cholecystokinin (CCK ) receptor. Using physiological functional magnetic resonance imaging this study aimed to determine the whole brain response to glucose, and whether CCK plays a central role. \\n\\n\\n## Experimental design \\n  \\nChanges in blood oxygenation level-dependent (BOLD) signal were monitored using fMRI in 12 healthy subjects following intragastric infusion (250ml) of: 1M glucose+predosing with dexloxiglumide (CCK  receptor antagonist), 1M glucose+placebo, or 0.9% saline (control)+placebo, in a single-blind, randomised fashion. Gallbladder volume, blood glucose, insulin, and GLP-1 and CCK concentrations were determined. Hunger, fullness and nausea scores were also recorded. \\n\\n\\n## Principal observations \\n  \\nIntragastric glucose elevated plasma glucose, insulin, and GLP-1, and reduced gall bladder volume (an   in vivo   assay for CCK secretion). Glucose decreased BOLD signal, relative to saline, in the brainstem and hypothalamus as well as the cerebellum, right occipital cortex, putamen and thalamus. The timing of the BOLD signal decrease was negatively correlated with the rise in blood glucose and insulin levels. The glucose+dex arm highlighted a CCK -receptor dependent increase in BOLD signal only in the motor cortex. \\n\\n\\n## Conclusions \\n  \\nGlucose induces site-specific differences in BOLD response in the human brain; the brainstem and hypothalamus show a CCK  receptor-independent reduction which is likely to be mediated by a circulatory effect of glucose and insulin, whereas the motor cortex shows an early dexloxiglumide-reversible increase in signal, suggesting a CCK  receptor-dependent neural pathway. \\n\\n   Highlights  \\n  \\nWe have identified two distinct CNS responses to glucose in man. \\n  \\nA CCK1 receptor (CCK1R)-dependent BOLD signal increase in the motor cortex. \\n  \\nA CCK1R-independent BOLD signal decrease in the brainstem and hypothalamus. \\n  \\nThe BOLD signal decrease was mediated by changes in blood glucose and insulin, \\n  \\n '"
      ]
     },
     "execution_count": 47,
     "metadata": {},
     "output_type": "execute_result"
    }
   ],
   "source": [
    "text"
   ]
  },
  {
   "cell_type": "code",
   "execution_count": 48,
   "id": "bc7a12cb",
   "metadata": {},
   "outputs": [
    {
     "data": {
      "text/html": [
       "<div>\n",
       "<style scoped>\n",
       "    .dataframe tbody tr th:only-of-type {\n",
       "        vertical-align: middle;\n",
       "    }\n",
       "\n",
       "    .dataframe tbody tr th {\n",
       "        vertical-align: top;\n",
       "    }\n",
       "\n",
       "    .dataframe thead th {\n",
       "        text-align: right;\n",
       "    }\n",
       "</style>\n",
       "<table border=\"1\" class=\"dataframe\">\n",
       "  <thead>\n",
       "    <tr style=\"text-align: right;\">\n",
       "      <th></th>\n",
       "      <th>group_name</th>\n",
       "      <th>subgroup_name</th>\n",
       "      <th>project_name</th>\n",
       "      <th>annotator_name</th>\n",
       "      <th>pmcid</th>\n",
       "      <th>diagnosis</th>\n",
       "      <th>count</th>\n",
       "      <th>male count</th>\n",
       "      <th>age mean</th>\n",
       "      <th>female count</th>\n",
       "      <th>age minimum</th>\n",
       "      <th>age maximum</th>\n",
       "      <th>age median</th>\n",
       "      <th>abstract</th>\n",
       "      <th>in_abstract</th>\n",
       "    </tr>\n",
       "  </thead>\n",
       "  <tbody>\n",
       "    <tr>\n",
       "      <th>11</th>\n",
       "      <td>healthy</td>\n",
       "      <td>_</td>\n",
       "      <td>participant_demographics</td>\n",
       "      <td>Jerome_Dockes</td>\n",
       "      <td>4075342</td>\n",
       "      <td>NaN</td>\n",
       "      <td>12</td>\n",
       "      <td>7.0</td>\n",
       "      <td>38.0</td>\n",
       "      <td>5.0</td>\n",
       "      <td>23.0</td>\n",
       "      <td>60.0</td>\n",
       "      <td>NaN</td>\n",
       "      <td>\\n## Objectives \\n  \\nPrevious fMRI studies h...</td>\n",
       "      <td>True</td>\n",
       "    </tr>\n",
       "  </tbody>\n",
       "</table>\n",
       "</div>"
      ],
      "text/plain": [
       "   group_name subgroup_name              project_name annotator_name    pmcid  \\\n",
       "11    healthy             _  participant_demographics  Jerome_Dockes  4075342   \n",
       "\n",
       "   diagnosis  count  male count  age mean  female count  age minimum  \\\n",
       "11       NaN     12         7.0      38.0           5.0         23.0   \n",
       "\n",
       "    age maximum  age median  \\\n",
       "11         60.0         NaN   \n",
       "\n",
       "                                             abstract  in_abstract  \n",
       "11   \\n## Objectives \\n  \\nPrevious fMRI studies h...         True  "
      ]
     },
     "execution_count": 48,
     "metadata": {},
     "output_type": "execute_result"
    }
   ],
   "source": [
    "single_group[single_group.pmcid == pmcid]"
   ]
  },
  {
   "cell_type": "code",
   "execution_count": null,
   "id": "f2d783ca",
   "metadata": {
    "collapsed": true
   },
   "outputs": [],
   "source": []
  }
 ],
 "metadata": {
  "kernelspec": {
   "display_name": "Python 3 (ipykernel)",
   "language": "python",
   "name": "python3"
  },
  "language_info": {
   "codemirror_mode": {
    "name": "ipython",
    "version": 3
   },
   "file_extension": ".py",
   "mimetype": "text/x-python",
   "name": "python",
   "nbconvert_exporter": "python",
   "pygments_lexer": "ipython3",
   "version": "3.9.7"
  }
 },
 "nbformat": 4,
 "nbformat_minor": 5
}
