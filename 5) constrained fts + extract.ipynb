{
 "cells": [
  {
   "cell_type": "markdown",
   "id": "ab54848d-2ef4-4d8a-9eb4-2a6a2b20c8a2",
   "metadata": {},
   "source": [
    "### Full Text Search + Extraction, pt ii\n",
    "\n",
    "In this notebook I will reconnect FTS with the GPT3.5 extraction function, and evaluate the whole process across single and multi group studies.\n",
    "\n",
    "To improve selection of the correct chunk, we'll use the following logic:\n",
    "\n",
    "- Restrict to Methods section if possible\n",
    "- If Methods can't be found, search across entire document\n",
    "- Feed one section to GPT, and if nothing is return, try next nearest section\n",
    "- For now, only going to feed a single passage\n",
    "- Evaluate using various output \"cleaning rules\"\n",
    "- Try using GPT4 as well to see if there's improvements\n",
    "\n",
    "TODO:\n",
    "- Keep track of which passage was chosen for prediction"
   ]
  },
  {
   "cell_type": "code",
   "execution_count": null,
   "id": "93ba2638-f73d-43f1-81e1-444ac01b3d06",
   "metadata": {},
   "outputs": [],
   "source": []
  }
 ],
 "metadata": {
  "kernelspec": {
   "display_name": "Python 3 (ipykernel)",
   "language": "python",
   "name": "python3"
  },
  "language_info": {
   "codemirror_mode": {
    "name": "ipython",
    "version": 3
   },
   "file_extension": ".py",
   "mimetype": "text/x-python",
   "name": "python",
   "nbconvert_exporter": "python",
   "pygments_lexer": "ipython3",
   "version": "3.9.7"
  }
 },
 "nbformat": 4,
 "nbformat_minor": 5
}
