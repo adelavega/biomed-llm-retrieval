{
 "cells": [
  {
   "cell_type": "markdown",
   "id": "ab54848d-2ef4-4d8a-9eb4-2a6a2b20c8a2",
   "metadata": {},
   "source": [
    "# Full Text Search + Extraction, pt ii\n",
    "\n",
    "In this notebook I will reconnect FTS with the GPT extraction function, and evaluate the whole process across single and multi group studies.\n",
    "\n",
    "To improve selection of the correct chunk, we'll use the following logic:\n",
    "\n",
    "- Attempt to use heuristic to narrow down chunk, and search across entire document as fall back\n",
    "- Feed one section to GPT, and if nothing is return, try next nearest section\n",
    "- Evaluate using various output \"cleaning rules\"\n",
    "- Try using GPT4 as well to see if there's improvements"
   ]
  },
  {
   "cell_type": "code",
   "execution_count": 1,
   "id": "38f5d6cc-e0aa-4f36-b50e-8b7e0d670cea",
   "metadata": {},
   "outputs": [],
   "source": [
    "import pandas as pd\n",
    "import numpy as np\n",
    "from labelrepo.projects.participant_demographics import get_participant_demographics\n",
    "\n",
    "# Load annotations\n",
    "subgroups = get_participant_demographics(include_locations=True)\n",
    "\n",
    "# Load multi group as well\n",
    "jerome_pd = subgroups[(subgroups.project_name == 'participant_demographics') & \\\n",
    "                      (subgroups.annotator_name == 'Jerome_Dockes')]\n",
    "\n",
    "# Subset annotation df to only include studies with body annotations\n",
    "subset_cols = ['count', 'diagnosis', 'group_name', 'subgroup_name', 'male count',\n",
    "       'female count', 'age mean', 'age minimum', 'age maximum',\n",
    "       'age median', 'pmcid']\n",
    "jerome_pd_subset = jerome_pd[subset_cols].sort_values('pmcid')"
   ]
  },
  {
   "cell_type": "markdown",
   "id": "96170694-9a03-4eae-b2b8-6e6eba965486",
   "metadata": {},
   "source": [
    "## Search and extract across all documents"
   ]
  },
  {
   "cell_type": "code",
   "execution_count": 2,
   "id": "93ba2638-f73d-43f1-81e1-444ac01b3d06",
   "metadata": {},
   "outputs": [],
   "source": [
    "import openai\n",
    "import pickle\n",
    "\n",
    "openai.api_key = open('/home/zorro/.keys/open_ai.key').read().strip()\n",
    "all_embeddings = pickle.load(open('data/all_embeddings.pkl', 'rb'))"
   ]
  },
  {
   "cell_type": "code",
   "execution_count": 3,
   "id": "0facc5fe-af10-4bca-a9fe-4912b872d714",
   "metadata": {},
   "outputs": [],
   "source": [
    "from extract import search_extract\n",
    "from templates import ZERO_SHOT_MULTI_GROUP\n",
    "from evaluate import evaluate_predictions, clean_predictions\n",
    "\n",
    "query = 'How many participants or subjects were recruited for this study?' "
   ]
  },
  {
   "cell_type": "markdown",
   "id": "d6015b54-e033-4a46-97af-4d13ad144d24",
   "metadata": {},
   "source": [
    "### No heuristic"
   ]
  },
  {
   "cell_type": "code",
   "execution_count": 4,
   "id": "3f41bbee-f60a-4d02-8c3a-384ce1758761",
   "metadata": {},
   "outputs": [],
   "source": [
    "# predictions_full_search = search_extract(all_embeddings, query, **ZERO_SHOT_MULTI_GROUP, num_workers=3)\n",
    "# predictions_full_search.to_csv('data/predictions_full_search.csv', index=False)\n",
    "predictions_full_search = pd.read_csv('data/predictions_full_search.csv')\n",
    "# Clean predictions\n",
    "clean_preds = clean_predictions(predictions_full_search)"
   ]
  },
  {
   "cell_type": "code",
   "execution_count": 5,
   "id": "38f81add-2a94-4382-9000-3d98a99fd4bc",
   "metadata": {},
   "outputs": [
    {
     "name": "stdout",
     "output_type": "stream",
     "text": [
      "Exact match # of groups: 0.84\n",
      " More groups predicted: 0.09\n",
      " Less groups predicted: 0.07\n",
      " Missing pmcids: set()\n",
      "\n",
      "Column wise comparison of predictions and annotations (error):\n",
      "\n",
      "{'age maximum': 0.31,\n",
      " 'age mean': 0.32,\n",
      " 'age median': 0.21,\n",
      " 'age minimum': 0.32,\n",
      " 'count': 0.31,\n",
      " 'diagnosis': 0.45,\n",
      " 'female count': 0.37,\n",
      " 'group_name': 0.21,\n",
      " 'male count': 0.33,\n",
      " 'subgroup_name': 0.98}\n",
      "\n",
      "Percentage response given by pmcid:\n",
      "\n",
      "{'age maximum': 0.7,\n",
      " 'age mean': 0.75,\n",
      " 'age median': 0.04,\n",
      " 'age minimum': 0.7,\n",
      " 'count': 1.0,\n",
      " 'female count': 0.73,\n",
      " 'male count': 0.78}\n",
      "\n",
      "Summed Mean percentage error:\n",
      "\n",
      "{'age maximum': 0.0,\n",
      " 'age mean': 0.14,\n",
      " 'age median': 0.0,\n",
      " 'age minimum': 0.0,\n",
      " 'count': 0.13,\n",
      " 'female count': 0.06,\n",
      " 'male count': 0.1}\n",
      "\n",
      "Averaged Mean percentage error:\n",
      "\n",
      "{'age maximum': 0.06,\n",
      " 'age mean': 0.18,\n",
      " 'age median': 0.0,\n",
      " 'age minimum': 0.08,\n",
      " 'count': 0.17,\n",
      " 'female count': 0.09,\n",
      " 'male count': 0.14}\n"
     ]
    }
   ],
   "source": [
    "ix_corr_n_groups, ix_more_groups, ix_less_groups = evaluate_predictions(clean_preds, jerome_pd_subset)"
   ]
  },
  {
   "cell_type": "markdown",
   "id": "5740698e-72f1-432f-9ef4-1f000dd57999",
   "metadata": {},
   "source": [
    "### Heuristic - methods\n",
    "uses heuristic to find methods section hen full text search using query"
   ]
  },
  {
   "cell_type": "code",
   "execution_count": 7,
   "id": "5cd1e3ac-1e55-4c9f-b51c-092cf93344b6",
   "metadata": {},
   "outputs": [
    {
     "name": "stderr",
     "output_type": "stream",
     "text": [
      "100%|█████████████████████████████████████████| 153/153 [02:51<00:00,  1.12s/it]\n"
     ]
    }
   ],
   "source": [
    "predictions_methods_fts = search_extract(all_embeddings, query, heuristic_strategy='methods', **ZERO_SHOT_MULTI_GROUP, num_workers=3)\n",
    "predictions_methods_fts.to_csv('data/predictions_methods_fts.csv', index=False)\n",
    "# predictions_methods_fts = pd.read_csv('data/predictions_methods_fts.csv')\n",
    "# Clean predictions\n",
    "predictions_methods_fts_clean = clean_predictions(predictions_methods_fts)"
   ]
  },
  {
   "cell_type": "code",
   "execution_count": 8,
   "id": "96b3f88a-fe32-4cca-9424-051d0d10e74b",
   "metadata": {},
   "outputs": [
    {
     "name": "stdout",
     "output_type": "stream",
     "text": [
      "Exact match # of groups: 0.82\n",
      " More groups predicted: 0.11\n",
      " Less groups predicted: 0.07\n",
      " Missing pmcids: {5416685, 4352055}\n",
      "\n",
      "Column wise comparison of predictions and annotations (error):\n",
      "\n",
      "{'age maximum': 0.29,\n",
      " 'age mean': 0.31,\n",
      " 'age median': 0.17,\n",
      " 'age minimum': 0.29,\n",
      " 'count': 0.32,\n",
      " 'diagnosis': 0.45,\n",
      " 'female count': 0.37,\n",
      " 'group_name': 0.22,\n",
      " 'male count': 0.33,\n",
      " 'subgroup_name': 0.99}\n",
      "\n",
      "Percentage response given by pmcid:\n",
      "\n",
      "{'age maximum': 0.71,\n",
      " 'age mean': 0.77,\n",
      " 'age median': 0.04,\n",
      " 'age minimum': 0.72,\n",
      " 'count': 1.0,\n",
      " 'female count': 0.73,\n",
      " 'male count': 0.77}\n",
      "\n",
      "Summed Mean percentage error:\n",
      "\n",
      "{'age maximum': 0.0,\n",
      " 'age mean': 0.14,\n",
      " 'age median': 0.0,\n",
      " 'age minimum': 0.0,\n",
      " 'count': 0.15,\n",
      " 'female count': 0.06,\n",
      " 'male count': 0.1}\n",
      "\n",
      "Averaged Mean percentage error:\n",
      "\n",
      "{'age maximum': 0.07,\n",
      " 'age mean': 0.18,\n",
      " 'age median': 0.0,\n",
      " 'age minimum': 0.08,\n",
      " 'count': 0.17,\n",
      " 'female count': 0.09,\n",
      " 'male count': 0.13}\n"
     ]
    }
   ],
   "source": [
    "ix_corr_n_groups, ix_more_groups, ix_less_groups = evaluate_predictions(predictions_methods_fts_clean, jerome_pd_subset)"
   ]
  },
  {
   "cell_type": "markdown",
   "id": "22d81e17-91fc-44a6-bc7c-6e8bc4686739",
   "metadata": {},
   "source": [
    "### Heurisic - demographics section"
   ]
  },
  {
   "cell_type": "code",
   "execution_count": 9,
   "id": "0f2c2973-9512-4dfb-9e6e-4d72f0d952c0",
   "metadata": {},
   "outputs": [
    {
     "name": "stderr",
     "output_type": "stream",
     "text": [
      "100%|█████████████████████████████████████████| 153/153 [02:53<00:00,  1.13s/it]\n"
     ]
    }
   ],
   "source": [
    "predictions_demographics_fts = search_extract(all_embeddings, query, heuristic_strategy='demographics', **ZERO_SHOT_MULTI_GROUP, num_workers=3)\n",
    "predictions_demographics_fts.to_csv('data/predictions_demographics_fts.csv', index=False)\n",
    "# predictions_demographics_fts = pd.read_csv('data/predictions_demographics_fts.csv')\n",
    "# Clean predictions\n",
    "predictions_demographics_fts_clean = clean_predictions(predictions_demographics_fts)"
   ]
  },
  {
   "cell_type": "code",
   "execution_count": 10,
   "id": "553bccbb-97ae-48bf-b180-8c150f5281ea",
   "metadata": {},
   "outputs": [
    {
     "name": "stdout",
     "output_type": "stream",
     "text": [
      "Exact match # of groups: 0.81\n",
      " More groups predicted: 0.12\n",
      " Less groups predicted: 0.07\n",
      " Missing pmcids: {5460048, 5416685, 4352055}\n",
      "\n",
      "Column wise comparison of predictions and annotations (error):\n",
      "\n",
      "{'age maximum': 0.3,\n",
      " 'age mean': 0.32,\n",
      " 'age median': 0.2,\n",
      " 'age minimum': 0.31,\n",
      " 'count': 0.32,\n",
      " 'diagnosis': 0.48,\n",
      " 'female count': 0.38,\n",
      " 'group_name': 0.23,\n",
      " 'male count': 0.34,\n",
      " 'subgroup_name': 0.99}\n",
      "\n",
      "Percentage response given by pmcid:\n",
      "\n",
      "{'age maximum': 0.68,\n",
      " 'age mean': 0.75,\n",
      " 'age median': 0.04,\n",
      " 'age minimum': 0.69,\n",
      " 'count': 1.0,\n",
      " 'female count': 0.72,\n",
      " 'male count': 0.78}\n",
      "\n",
      "Summed Mean percentage error:\n",
      "\n",
      "{'age maximum': 0.0,\n",
      " 'age mean': 0.14,\n",
      " 'age median': 0.0,\n",
      " 'age minimum': 0.01,\n",
      " 'count': 0.15,\n",
      " 'female count': 0.07,\n",
      " 'male count': 0.1}\n",
      "\n",
      "Averaged Mean percentage error:\n",
      "\n",
      "{'age maximum': 0.04,\n",
      " 'age mean': 0.17,\n",
      " 'age median': 0.0,\n",
      " 'age minimum': 0.06,\n",
      " 'count': 0.23,\n",
      " 'female count': 0.08,\n",
      " 'male count': 0.13}\n"
     ]
    }
   ],
   "source": [
    "ix_corr_n_groups, ix_more_groups, ix_less_groups = evaluate_predictions(predictions_demographics_fts_clean, jerome_pd_subset)"
   ]
  },
  {
   "cell_type": "markdown",
   "id": "5649c558-7afa-4967-a40e-b75cc7d9041a",
   "metadata": {},
   "source": [
    "# GPT4 - No Heuristic"
   ]
  },
  {
   "cell_type": "code",
   "execution_count": null,
   "id": "225157c2-6ff9-444a-b198-252aafa0af6e",
   "metadata": {},
   "outputs": [
    {
     "name": "stderr",
     "output_type": "stream",
     "text": [
      "  3%|█▍                                         | 5/153 [01:03<27:42, 11.23s/it]"
     ]
    }
   ],
   "source": [
    "predictions_gpt4 = search_extract(all_embeddings, query, **ZERO_SHOT_MULTI_GROUP, num_workers=1, model_name='gpt-4')\n",
    "# Clean predictions\n",
    "predictions_gpt4 = clean_predictions(predictions_gpt4)"
   ]
  },
  {
   "cell_type": "markdown",
   "id": "2c614ae3-e460-46f2-838d-b074beb08737",
   "metadata": {},
   "source": [
    "## Conclusion\n",
    "\n",
    "Heuristic doesn't seem to improve things much, but does increase the chance that we don't find anything at all (when info is in Results section).\n",
    "\n",
    "Could modify heuristic to fall back onto entire document if extraction comes  back null, but it doesn't seem to improve prediction much otherwise, so I'm not sure it's worthwhile. "
   ]
  },
  {
   "cell_type": "markdown",
   "id": "105bef70-cb9e-43ab-9fd7-f9337698a630",
   "metadata": {},
   "source": [
    "# Manual results revision"
   ]
  },
  {
   "cell_type": "code",
   "execution_count": null,
   "id": "1a6a9499-84db-44cc-b9f8-ab2508fdbbbc",
   "metadata": {},
   "outputs": [],
   "source": []
  }
 ],
 "metadata": {
  "kernelspec": {
   "display_name": "Python 3 (ipykernel)",
   "language": "python",
   "name": "python3"
  },
  "language_info": {
   "codemirror_mode": {
    "name": "ipython",
    "version": 3
   },
   "file_extension": ".py",
   "mimetype": "text/x-python",
   "name": "python",
   "nbconvert_exporter": "python",
   "pygments_lexer": "ipython3",
   "version": "3.11.4"
  }
 },
 "nbformat": 4,
 "nbformat_minor": 5
}
