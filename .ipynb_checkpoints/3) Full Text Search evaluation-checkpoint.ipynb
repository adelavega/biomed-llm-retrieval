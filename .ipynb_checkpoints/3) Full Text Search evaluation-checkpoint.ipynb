{
 "cells": [
  {
   "cell_type": "markdown",
   "id": "ec33aee1-7c7b-4e3a-8b81-b1bd79e1ca5f",
   "metadata": {},
   "source": [
    "# Full Text Search evaluation with participant demographics\n",
    "\n",
    "Here, I evaluate the strategy of finding relevant text sections using chunk embeddings.\n",
    "\n",
    "First, I split PMC articles using Markdown (and lines), into chunks less than `n_tokens` (~4000).\n",
    "\n",
    "Next, we embed each chunks.\n",
    "\n",
    "Finally, using a text query, we find the most relevant section of each article for finding participant demographics.\n",
    "The query is also embedded and a distance metric is taken between each chunk and the query.\n",
    "\n",
    "To evaluate this method, I will see if this method correctly identifies the section where human annotators found demographic info."
   ]
  },
  {
   "cell_type": "markdown",
   "id": "7250c22c-a887-48b7-9e1d-73071984059f",
   "metadata": {},
   "source": [
    "## Setup"
   ]
  },
  {
   "cell_type": "code",
   "execution_count": 105,
   "id": "31043f58-23b0-4ad8-a3db-5b6875442ca0",
   "metadata": {},
   "outputs": [],
   "source": [
    "import pandas as pd\n",
    "from labelrepo.projects.participant_demographics import get_participant_demographics\n",
    "\n",
    "subgroups = get_participant_demographics(include_locations=True)"
   ]
  },
  {
   "cell_type": "code",
   "execution_count": 106,
   "id": "63234349-9da7-4e46-a65c-bdd8fba5d6be",
   "metadata": {},
   "outputs": [],
   "source": [
    "from labelrepo.database import get_database_connection\n",
    "\n",
    "import pandas as pd\n",
    "\n",
    "docs_info = pd.read_sql(\n",
    "    \"select pmcid, publication_year, title, text from document\",\n",
    "    get_database_connection(),\n",
    ")"
   ]
  },
  {
   "cell_type": "code",
   "execution_count": 107,
   "id": "074e1132-e726-41c9-bbd2-dbbf9c4ba2a8",
   "metadata": {},
   "outputs": [],
   "source": [
    "# Only look at single group documents\n",
    "jerome_pd = subgroups[(subgroups.project_name == 'participant_demographics') & \\\n",
    "                      (subgroups.annotator_name == 'Jerome_Dockes')]\n",
    "\n",
    "counts = jerome_pd.groupby('pmcid').count().reset_index()\n",
    "single_group_pmcids = counts[counts['count'] == 1].pmcid\n",
    "single_group = jerome_pd[jerome_pd.pmcid.isin(single_group_pmcids)]"
   ]
  },
  {
   "cell_type": "code",
   "execution_count": 108,
   "id": "a8efe8e9-478c-465d-893d-dc98da3ad0c4",
   "metadata": {},
   "outputs": [],
   "source": [
    "single_group_docs = docs_info[docs_info.pmcid.isin(single_group.pmcid)]"
   ]
  },
  {
   "cell_type": "markdown",
   "id": "f0d12784-5fb0-4f1c-8845-115130668f39",
   "metadata": {},
   "source": [
    "### Embed all documents"
   ]
  },
  {
   "cell_type": "code",
   "execution_count": 109,
   "id": "e03363f3-9d81-4f95-b92d-8fff42ef8b9d",
   "metadata": {},
   "outputs": [],
   "source": [
    "import openai\n",
    "openai.api_key = open('/home/zorro/.keys/open_ai.key').read().strip()"
   ]
  },
  {
   "cell_type": "code",
   "execution_count": 110,
   "id": "b05afc81-5548-43b9-8de6-91b815156861",
   "metadata": {},
   "outputs": [],
   "source": [
    "from embed import embed_pmc_articles, query_embeddings\n",
    "texts = single_group_docs[['pmcid', 'text']].to_dict(orient='records')\n",
    "# single_group_embeddings = embed_pmc_articles(texts)"
   ]
  },
  {
   "cell_type": "code",
   "execution_count": 111,
   "id": "82653681-200e-4df4-a185-69d4376dbea0",
   "metadata": {},
   "outputs": [],
   "source": [
    "import pickle\n",
    "# pickle.dump(single_group_embeddings, open('data/single_group_embeddings.pkl', 'wb'))"
   ]
  },
  {
   "cell_type": "code",
   "execution_count": 112,
   "id": "ed160b44-d6ec-46db-bbd2-166d31dc0d2b",
   "metadata": {},
   "outputs": [],
   "source": [
    "single_group_embeddings = pickle.load(open('data/single_group_embeddings.pkl', 'rb'))"
   ]
  },
  {
   "cell_type": "markdown",
   "id": "966239b6-86f1-4118-9ec9-393426890a86",
   "metadata": {},
   "source": [
    "### Test query across all documents\n",
    "\n",
    "Given a query, see what the average rank for the chunk matching the human annotation is"
   ]
  },
  {
   "cell_type": "code",
   "execution_count": 113,
   "id": "2b423b9e-85ab-429e-957a-d8dc59fe007e",
   "metadata": {},
   "outputs": [],
   "source": [
    "single_group_embeddings = pd.DataFrame(single_group_embeddings)"
   ]
  },
  {
   "cell_type": "code",
   "execution_count": 114,
   "id": "f8d4b024-47c7-4b63-b9b0-056d86bb61e1",
   "metadata": {},
   "outputs": [],
   "source": [
    "import numpy as np \n",
    "\n",
    "def get_matching_chunks(ranks_df, annotation_df):\n",
    "    \"\"\" Select the chunks that contains the original annotation \"\"\"\n",
    "    matches = []\n",
    "    for ix, row in annotation_df.iterrows():\n",
    "        m = ranks_df[\n",
    "            (ranks_df['pmcid'] == row['pmcid']) & (ranks_df['start_char'] <= row['start_char']) & (ranks_df['end_char'] >= row['end_char'])]\n",
    "        matches.append(m)\n",
    "    \n",
    "    return pd.concat(matches)\n",
    "    \n",
    "def evaluate_query_across_docs(embeddings_df, annotations_df, query):\n",
    "    # For every document, get distance and rank between query and embeddings\n",
    "    distances, ranks = zip(*[\n",
    "        query_embeddings(sub_df['embedding'].tolist(), query) \n",
    "        for pmcid, sub_df in embeddings_df.groupby('pmcid', sort=False)\n",
    "    ])\n",
    "\n",
    "    # Combine with meta-data into a df\n",
    "    ranks_df = embeddings_df[['pmcid', 'chunk_id', 'start_char', 'end_char']].copy()\n",
    "    ranks_df['distance'] = np.concatenate(distances)\n",
    "    ranks_df['rank'] = np.concatenate(ranks)\n",
    "    \n",
    "    mc = get_matching_chunks(ranks_df, annotations_df)\n",
    "\n",
    "    print(\n",
    "        f\"Query: '{query}' \\nMean rank: {mc['rank'].mean():.2f},\\\n",
    "        top 1 %: {(mc['rank'] == 0).mean():.2f}, \\\n",
    "        top 3 %: {(mc['rank'] <= 3).mean():.2f}\"\n",
    "    )"
   ]
  },
  {
   "cell_type": "code",
   "execution_count": 115,
   "id": "358bc87c-6506-44d7-a11a-ca1cea20431d",
   "metadata": {},
   "outputs": [],
   "source": [
    "queries = ['ljskfdklsjdfk', 'Methods section', 'Number of participants',\n",
    "           'The number of subjects or participants that were involved in the study or underwent MRI',\n",
    "           'How many participants or subjects were recruited for this study?',\n",
    "           'How many participants were recruited for this study?']"
   ]
  },
  {
   "cell_type": "code",
   "execution_count": 116,
   "id": "783a61ba-eb13-4fa5-a3f7-ea6bed0f40cf",
   "metadata": {},
   "outputs": [],
   "source": [
    "# for q in queries:\n",
    "#     evaluate_query_across_docs(single_group_embeddings, single_group, q)"
   ]
  },
  {
   "cell_type": "markdown",
   "id": "18f3cf52-cb72-4e8e-a6a6-3c08435b0f5b",
   "metadata": {},
   "source": [
    "### Try only on Body\n",
    "\n",
    "Looks like Jerome's annotations were only in the Body of the study, so it would be fair to exclude any embeddings not on the Body of the paper. "
   ]
  },
  {
   "cell_type": "code",
   "execution_count": 117,
   "id": "7ddc75c7-9cc9-4143-aaa3-b43964ca45bc",
   "metadata": {},
   "outputs": [],
   "source": [
    "single_group_embeddings_body = single_group_embeddings[single_group_embeddings.section_name == 'Body'].reset_index().drop(columns='index')"
   ]
  },
  {
   "cell_type": "code",
   "execution_count": 118,
   "id": "ea1ac069-f189-4c13-b5fe-7a5d20dc4f6a",
   "metadata": {},
   "outputs": [],
   "source": [
    "# for q in queries:\n",
    "#     evaluate_query_across_docs(single_group_embeddings_body, single_group, q)"
   ]
  },
  {
   "cell_type": "markdown",
   "id": "8a26b002-83d4-40c7-86f6-59b84edac45b",
   "metadata": {},
   "source": [
    "# Extract Sample Size from relevant secton"
   ]
  },
  {
   "cell_type": "code",
   "execution_count": 47,
   "id": "be06f7f4-59ba-481b-82d7-b7bacdd659a7",
   "metadata": {},
   "outputs": [],
   "source": [
    "from extract import extract_from_multiple\n",
    "from templates import ZERO_SHOT_SAMPLE_SIZE_FUNCTION\n",
    "\n",
    "def extract_sample_size_full_text(embeddings_df, query, template, num_workers=3):\n",
    "    # For every document, get distance and rank between query and embeddings\n",
    "    distances, ranks = zip(*[\n",
    "        query_embeddings(sub_df['embedding'].tolist(), query) \n",
    "        for pmcid, sub_df in embeddings_df.groupby('pmcid', sort=False)\n",
    "    ])\n",
    "\n",
    "    # Combine with meta-data into a df\n",
    "    ranks_df = embeddings_df[['pmcid', 'content']].copy()\n",
    "    ranks_df['rank'] = np.concatenate(ranks)\n",
    "\n",
    "    # Subset to only include top ranked chunks\n",
    "    ranks_df = ranks_df[ranks_df['rank'] == 0]\n",
    "\n",
    "    # For every chunk, apply template\n",
    "    predictions = extract_from_multiple(\n",
    "        ranks_df.content.to_list(), \n",
    "        **template, \n",
    "        num_workers=num_workers\n",
    "    )\n",
    "\n",
    "    predictions['pmcid'] = ranks_df['pmcid'].tolist()\n",
    "    predictions['content'] =  ranks_df['content'].tolist()\n",
    "    return predictions"
   ]
  },
  {
   "cell_type": "code",
   "execution_count": 48,
   "id": "9c9ccc6b-7125-4e0e-aae1-f6546e5aa3f9",
   "metadata": {},
   "outputs": [
    {
     "name": "stderr",
     "output_type": "stream",
     "text": [
      "100%|███████████████████████████████████████████| 75/75 [00:20<00:00,  3.71it/s]\n"
     ]
    }
   ],
   "source": [
    "full_text_demo = extract_sample_size_full_text(\n",
    "    single_group_embeddings_body, \n",
    "    'How many participants were recruited for this study?', \n",
    "    ZERO_SHOT_SAMPLE_SIZE\n",
    ")"
   ]
  },
  {
   "cell_type": "markdown",
   "id": "32feaaa3-10da-42de-bd67-cf760c291a47",
   "metadata": {},
   "source": [
    "#### Evaluation"
   ]
  },
  {
   "cell_type": "code",
   "execution_count": 49,
   "id": "f0cc9ee5-e8ed-4ab9-9796-306c21780933",
   "metadata": {},
   "outputs": [],
   "source": [
    "sg_eval = single_group.reset_index()[['count', 'pmcid']].rename(columns={'count': 'annot_count'})"
   ]
  },
  {
   "cell_type": "code",
   "execution_count": 50,
   "id": "c8247ef4-4a28-4a06-8aaa-bbc0c0e4d391",
   "metadata": {},
   "outputs": [],
   "source": [
    "full_text_demo = pd.merge(full_text_demo, sg_eval)"
   ]
  },
  {
   "cell_type": "code",
   "execution_count": 51,
   "id": "7db3f3ad-d2a6-46d3-94ce-27bc1a2cb858",
   "metadata": {},
   "outputs": [],
   "source": [
    "full_text_demo['correct'] = full_text_demo['count'] == full_text_demo['annot_count']"
   ]
  },
  {
   "cell_type": "code",
   "execution_count": 52,
   "id": "64ae3f2d-76b4-4b66-9864-ce94ff06cfc3",
   "metadata": {},
   "outputs": [
    {
     "data": {
      "text/plain": [
       "0.7733333333333333"
      ]
     },
     "execution_count": 52,
     "metadata": {},
     "output_type": "execute_result"
    }
   ],
   "source": [
    "# Overall accuracy\n",
    "full_text_demo['correct'].mean()"
   ]
  },
  {
   "cell_type": "code",
   "execution_count": 94,
   "id": "4054e9d1-daad-44b1-baa7-6f82c811b34d",
   "metadata": {},
   "outputs": [
    {
     "data": {
      "text/plain": [
       "0.8656716417910447"
      ]
     },
     "execution_count": 94,
     "metadata": {},
     "output_type": "execute_result"
    }
   ],
   "source": [
    "# Accuracy for non-nas\n",
    "ftd_nonna = full_text_demo[(full_text_demo['count'] != 'n/a') & (full_text_demo['count'] != 0) ]\n",
    "ftd_nonna['correct'].mean()"
   ]
  },
  {
   "cell_type": "code",
   "execution_count": 102,
   "id": "fce830e2-1c1d-4e63-bb89-54aeec7ed775",
   "metadata": {},
   "outputs": [],
   "source": [
    "def is_within_percentage(num1, num2, percentage=10):\n",
    "    if int(num1) == int(num2):\n",
    "        return True\n",
    "    if abs(int(num1) - int(num2)) / int(num1) <= percentage / 100:\n",
    "        return True\n",
    "    return False"
   ]
  },
  {
   "cell_type": "code",
   "execution_count": 103,
   "id": "446d73f9-d3de-40c8-9606-35c2e2f0fe77",
   "metadata": {},
   "outputs": [
    {
     "data": {
      "text/plain": [
       "0.9253731343283582"
      ]
     },
     "execution_count": 103,
     "metadata": {},
     "output_type": "execute_result"
    }
   ],
   "source": [
    "# Accuracy within 10%\n",
    "(ftd_nonna.apply(lambda x: is_within_percentage(x['count'], x['annot_count'], 10), axis=1)).mean()"
   ]
  },
  {
   "cell_type": "code",
   "execution_count": 104,
   "id": "579fa920-a7c9-4d70-9959-539433f5d95c",
   "metadata": {},
   "outputs": [
    {
     "data": {
      "text/plain": [
       "0.9850746268656716"
      ]
     },
     "execution_count": 104,
     "metadata": {},
     "output_type": "execute_result"
    }
   ],
   "source": [
    "# Accuracy within 20%\n",
    "(ftd_nonna.apply(lambda x: is_within_percentage(x['count'], x['annot_count'], 20), axis=1)).mean()"
   ]
  },
  {
   "cell_type": "markdown",
   "id": "aa8d9095-5b36-4384-81ab-9c8480d8bcc7",
   "metadata": {},
   "source": [
    "#### Incorrect responses"
   ]
  },
  {
   "cell_type": "code",
   "execution_count": 56,
   "id": "12bedafb-0c0e-4e41-9eb9-73d5ab85cc7a",
   "metadata": {},
   "outputs": [],
   "source": [
    "incorrect = ftd_nonna[ftd_nonna['correct'] == False]"
   ]
  },
  {
   "cell_type": "code",
   "execution_count": 57,
   "id": "ff187679-1946-4f4a-9462-ea930877022d",
   "metadata": {},
   "outputs": [
    {
     "data": {
      "text/html": [
       "<div>\n",
       "<style scoped>\n",
       "    .dataframe tbody tr th:only-of-type {\n",
       "        vertical-align: middle;\n",
       "    }\n",
       "\n",
       "    .dataframe tbody tr th {\n",
       "        vertical-align: top;\n",
       "    }\n",
       "\n",
       "    .dataframe thead th {\n",
       "        text-align: right;\n",
       "    }\n",
       "</style>\n",
       "<table border=\"1\" class=\"dataframe\">\n",
       "  <thead>\n",
       "    <tr style=\"text-align: right;\">\n",
       "      <th></th>\n",
       "      <th>count</th>\n",
       "      <th>pmcid</th>\n",
       "      <th>content</th>\n",
       "      <th>annot_count</th>\n",
       "      <th>correct</th>\n",
       "    </tr>\n",
       "  </thead>\n",
       "  <tbody>\n",
       "    <tr>\n",
       "      <th>0</th>\n",
       "      <td>146</td>\n",
       "      <td>9108497</td>\n",
       "      <td>\\n### Participants \\n  \\nThe participants are ...</td>\n",
       "      <td>134</td>\n",
       "      <td>False</td>\n",
       "    </tr>\n",
       "    <tr>\n",
       "      <th>2</th>\n",
       "      <td>112</td>\n",
       "      <td>8752963</td>\n",
       "      <td>\\n## Methods \\n  \\n### MEG datasets \\n  \\nWe a...</td>\n",
       "      <td>110</td>\n",
       "      <td>False</td>\n",
       "    </tr>\n",
       "    <tr>\n",
       "      <th>4</th>\n",
       "      <td>6</td>\n",
       "      <td>9461104</td>\n",
       "      <td>\\n## Material &amp; methods \\n  \\nPatients who wer...</td>\n",
       "      <td>6</td>\n",
       "      <td>False</td>\n",
       "    </tr>\n",
       "    <tr>\n",
       "      <th>7</th>\n",
       "      <td>0</td>\n",
       "      <td>9308181</td>\n",
       "      <td>\\n## Methods \\n  \\n### Study group \\n  \\nA coh...</td>\n",
       "      <td>173</td>\n",
       "      <td>False</td>\n",
       "    </tr>\n",
       "    <tr>\n",
       "      <th>8</th>\n",
       "      <td>17</td>\n",
       "      <td>8837589</td>\n",
       "      <td>\\n## MATERIALS AND METHODS \\n  \\n### Participa...</td>\n",
       "      <td>20</td>\n",
       "      <td>False</td>\n",
       "    </tr>\n",
       "    <tr>\n",
       "      <th>17</th>\n",
       "      <td>40</td>\n",
       "      <td>2748718</td>\n",
       "      <td>\\n## Materials and Methods \\n  \\n### Experimen...</td>\n",
       "      <td>30</td>\n",
       "      <td>False</td>\n",
       "    </tr>\n",
       "    <tr>\n",
       "      <th>37</th>\n",
       "      <td>25</td>\n",
       "      <td>3483694</td>\n",
       "      <td>\\n## Methods \\n  \\n### Participants \\n  \\nTwen...</td>\n",
       "      <td>22</td>\n",
       "      <td>False</td>\n",
       "    </tr>\n",
       "    <tr>\n",
       "      <th>50</th>\n",
       "      <td>19</td>\n",
       "      <td>5537800</td>\n",
       "      <td>\\n### 2.1. Participants \\n  \\nThe study involv...</td>\n",
       "      <td>16</td>\n",
       "      <td>False</td>\n",
       "    </tr>\n",
       "    <tr>\n",
       "      <th>68</th>\n",
       "      <td>27</td>\n",
       "      <td>6509414</td>\n",
       "      <td>\\n## Materials and Methods \\n  \\n### Participa...</td>\n",
       "      <td>26</td>\n",
       "      <td>False</td>\n",
       "    </tr>\n",
       "    <tr>\n",
       "      <th>73</th>\n",
       "      <td>15</td>\n",
       "      <td>6989437</td>\n",
       "      <td>\\n## Methods \\n  \\n### Participants \\n  \\nFift...</td>\n",
       "      <td>13</td>\n",
       "      <td>False</td>\n",
       "    </tr>\n",
       "  </tbody>\n",
       "</table>\n",
       "</div>"
      ],
      "text/plain": [
       "   count    pmcid                                            content  \\\n",
       "0    146  9108497  \\n### Participants \\n  \\nThe participants are ...   \n",
       "2    112  8752963  \\n## Methods \\n  \\n### MEG datasets \\n  \\nWe a...   \n",
       "4      6  9461104  \\n## Material & methods \\n  \\nPatients who wer...   \n",
       "7      0  9308181  \\n## Methods \\n  \\n### Study group \\n  \\nA coh...   \n",
       "8     17  8837589  \\n## MATERIALS AND METHODS \\n  \\n### Participa...   \n",
       "17    40  2748718  \\n## Materials and Methods \\n  \\n### Experimen...   \n",
       "37    25  3483694  \\n## Methods \\n  \\n### Participants \\n  \\nTwen...   \n",
       "50    19  5537800  \\n### 2.1. Participants \\n  \\nThe study involv...   \n",
       "68    27  6509414  \\n## Materials and Methods \\n  \\n### Participa...   \n",
       "73    15  6989437  \\n## Methods \\n  \\n### Participants \\n  \\nFift...   \n",
       "\n",
       "    annot_count  correct  \n",
       "0           134    False  \n",
       "2           110    False  \n",
       "4             6    False  \n",
       "7           173    False  \n",
       "8            20    False  \n",
       "17           30    False  \n",
       "37           22    False  \n",
       "50           16    False  \n",
       "68           26    False  \n",
       "73           13    False  "
      ]
     },
     "execution_count": 57,
     "metadata": {},
     "output_type": "execute_result"
    }
   ],
   "source": [
    "incorrect"
   ]
  },
  {
   "cell_type": "markdown",
   "id": "e20c1854-2cd7-4648-bc81-1f3ed8f38e9f",
   "metadata": {},
   "source": [
    "- 8/10 are only off by a few, due to complex exclusion crtiera\n",
    "- Attempting to change the prompt to identify # of excluded subjects actually makes accuracy go down, and n deviates further from either final N or total N (and substracting the two numbers doesn't help)\n",
    "- In one case, the annotation is actually incorrect. (1/10)\n",
    "- Zero's should be treated as `n/a` (1/1)\n",
    "- Sometimes models  confused other info for demographic information (i.e. ROIs).\n",
    "  It seems as if the models are good at putting `n/a` for these section, but sometimes (in a non stable manner), fail"
   ]
  },
  {
   "cell_type": "markdown",
   "id": "7de7d15f-cd67-4598-b694-60a774c812fb",
   "metadata": {},
   "source": [
    "#### Missing Responses"
   ]
  },
  {
   "cell_type": "code",
   "execution_count": 77,
   "id": "58f496de-bafb-45b9-9fb3-9fdd644d8238",
   "metadata": {},
   "outputs": [],
   "source": [
    "ftd_na = full_text_demo[full_text_demo['count'] == 'n/a']"
   ]
  },
  {
   "cell_type": "code",
   "execution_count": 78,
   "id": "a8813d02-7d11-462d-95e9-6ce8ade5997b",
   "metadata": {},
   "outputs": [
    {
     "data": {
      "text/html": [
       "<div>\n",
       "<style scoped>\n",
       "    .dataframe tbody tr th:only-of-type {\n",
       "        vertical-align: middle;\n",
       "    }\n",
       "\n",
       "    .dataframe tbody tr th {\n",
       "        vertical-align: top;\n",
       "    }\n",
       "\n",
       "    .dataframe thead th {\n",
       "        text-align: right;\n",
       "    }\n",
       "</style>\n",
       "<table border=\"1\" class=\"dataframe\">\n",
       "  <thead>\n",
       "    <tr style=\"text-align: right;\">\n",
       "      <th></th>\n",
       "      <th>count</th>\n",
       "      <th>pmcid</th>\n",
       "      <th>content</th>\n",
       "      <th>annot_count</th>\n",
       "      <th>correct</th>\n",
       "    </tr>\n",
       "  </thead>\n",
       "  <tbody>\n",
       "    <tr>\n",
       "      <th>3</th>\n",
       "      <td>n/a</td>\n",
       "      <td>8978988</td>\n",
       "      <td>\\n## AUTHOR CONTRIBUTIONS \\n  \\nZhouwei Xu and...</td>\n",
       "      <td>1</td>\n",
       "      <td>False</td>\n",
       "    </tr>\n",
       "    <tr>\n",
       "      <th>9</th>\n",
       "      <td>n/a</td>\n",
       "      <td>6492297</td>\n",
       "      <td>\\nFurthermore, each subject has a number of be...</td>\n",
       "      <td>820</td>\n",
       "      <td>False</td>\n",
       "    </tr>\n",
       "    <tr>\n",
       "      <th>11</th>\n",
       "      <td>n/a</td>\n",
       "      <td>3775427</td>\n",
       "      <td>\\n## Methods \\n  \\n### Regions of interest \\n ...</td>\n",
       "      <td>102</td>\n",
       "      <td>False</td>\n",
       "    </tr>\n",
       "    <tr>\n",
       "      <th>14</th>\n",
       "      <td>n/a</td>\n",
       "      <td>6678781</td>\n",
       "      <td>\\n## 5. Limitations \\n  \\nFirst of all, partic...</td>\n",
       "      <td>61</td>\n",
       "      <td>False</td>\n",
       "    </tr>\n",
       "    <tr>\n",
       "      <th>35</th>\n",
       "      <td>n/a</td>\n",
       "      <td>6878729</td>\n",
       "      <td>\\n## Ethics Statement \\n  \\nThe studies involv...</td>\n",
       "      <td>8</td>\n",
       "      <td>False</td>\n",
       "    </tr>\n",
       "    <tr>\n",
       "      <th>60</th>\n",
       "      <td>n/a</td>\n",
       "      <td>7481390</td>\n",
       "      <td>\\n## Ethics Statement \\n  \\nThe studies involv...</td>\n",
       "      <td>28</td>\n",
       "      <td>False</td>\n",
       "    </tr>\n",
       "    <tr>\n",
       "      <th>63</th>\n",
       "      <td>n/a</td>\n",
       "      <td>3409150</td>\n",
       "      <td>\\n## Methods \\n  \\nThis research was approved ...</td>\n",
       "      <td>18</td>\n",
       "      <td>False</td>\n",
       "    </tr>\n",
       "  </tbody>\n",
       "</table>\n",
       "</div>"
      ],
      "text/plain": [
       "   count    pmcid                                            content  \\\n",
       "3    n/a  8978988  \\n## AUTHOR CONTRIBUTIONS \\n  \\nZhouwei Xu and...   \n",
       "9    n/a  6492297  \\nFurthermore, each subject has a number of be...   \n",
       "11   n/a  3775427  \\n## Methods \\n  \\n### Regions of interest \\n ...   \n",
       "14   n/a  6678781  \\n## 5. Limitations \\n  \\nFirst of all, partic...   \n",
       "35   n/a  6878729  \\n## Ethics Statement \\n  \\nThe studies involv...   \n",
       "60   n/a  7481390  \\n## Ethics Statement \\n  \\nThe studies involv...   \n",
       "63   n/a  3409150  \\n## Methods \\n  \\nThis research was approved ...   \n",
       "\n",
       "    annot_count  correct  \n",
       "3             1    False  \n",
       "9           820    False  \n",
       "11          102    False  \n",
       "14           61    False  \n",
       "35            8    False  \n",
       "60           28    False  \n",
       "63           18    False  "
      ]
     },
     "execution_count": 78,
     "metadata": {},
     "output_type": "execute_result"
    }
   ],
   "source": [
    "ftd_na"
   ]
  },
  {
   "cell_type": "markdown",
   "id": "b8b3c351-a2e7-4d72-8902-6868177d4d00",
   "metadata": {},
   "source": [
    "In almost all these cases, the wrong passage was selected. "
   ]
  },
  {
   "cell_type": "markdown",
   "id": "a9d0bccd-fef1-4641-ab6e-87541f8d8863",
   "metadata": {},
   "source": [
    "### Iterating over n/as, until finding a sample size"
   ]
  },
  {
   "cell_type": "code",
   "execution_count": null,
   "id": "29dfbb72-0e63-477e-a895-4478bd88e3a1",
   "metadata": {},
   "outputs": [],
   "source": []
  }
 ],
 "metadata": {
  "kernelspec": {
   "display_name": "Python 3 (ipykernel)",
   "language": "python",
   "name": "python3"
  },
  "language_info": {
   "codemirror_mode": {
    "name": "ipython",
    "version": 3
   },
   "file_extension": ".py",
   "mimetype": "text/x-python",
   "name": "python",
   "nbconvert_exporter": "python",
   "pygments_lexer": "ipython3",
   "version": "3.11.4"
  }
 },
 "nbformat": 4,
 "nbformat_minor": 5
}
