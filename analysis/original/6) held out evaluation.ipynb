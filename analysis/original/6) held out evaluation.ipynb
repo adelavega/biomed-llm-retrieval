{
 "cells": [
  {
   "cell_type": "markdown",
   "id": "e31c00e7-da44-40cb-953e-72349320b4a9",
   "metadata": {},
   "source": [
    "# Held out evaluation\n",
    "\n",
    "This notebook will example result from held out evaluation"
   ]
  },
  {
   "cell_type": "code",
   "execution_count": 1,
   "id": "c6f04838-ba80-4aca-9f52-d65855251197",
   "metadata": {},
   "outputs": [],
   "source": [
    "import pandas as pd"
   ]
  },
  {
   "cell_type": "markdown",
   "id": "282821bc-ae60-4202-a72f-9326e446fbea",
   "metadata": {},
   "source": [
    "### Load Ground Truth\n",
    "Papers annotated by Jerome"
   ]
  },
  {
   "cell_type": "code",
   "execution_count": 2,
   "id": "d138fa1f-2c80-4503-af16-5dd83e7731fb",
   "metadata": {},
   "outputs": [],
   "source": [
    "ground_truth = pd.read_csv('../fmri_participant_demographics/data/outputs/evaluation_labels.csv')\n",
    "unique_ids = ground_truth.pmcid.unique()"
   ]
  },
  {
   "cell_type": "markdown",
   "id": "e310df54-cd91-4710-a961-ce8c5e38a9eb",
   "metadata": {},
   "source": [
    "### GPT predictions\n",
    "- First load clean, and subset to include only those in ground truth (i.e. not those in training sample)\n",
    "- Also load unclead data, to look at errors in papers that were cleaned up"
   ]
  },
  {
   "cell_type": "code",
   "execution_count": 3,
   "id": "63f8123c-297b-4c5f-a932-c4cb8f2231e8",
   "metadata": {},
   "outputs": [],
   "source": [
    "gpt3_clean_preds = pd.read_csv('../fmri_participant_demographics/data/outputs/gpt/eval_participant_demographics_gpt_tokens-2000_clean.csv')\n",
    "gpt3_all_preds = pd.read_csv('../fmri_participant_demographics/data/outputs/gpt/eval_participant_demographics_gpt_tokens-2000.csv')\n",
    "embeddings = pd.read_parquet('../fmri_participant_demographics/data/outputs/gpt/eval_embeddings_tokens-2000.parquet')"
   ]
  },
  {
   "cell_type": "code",
   "execution_count": 4,
   "id": "178bc6fa-eae3-4f32-81d7-b7c2c101613a",
   "metadata": {},
   "outputs": [],
   "source": [
    "gpt4_clean_preds = pd.read_csv('../fmri_participant_demographics/data/outputs/gpt/eval_participant_demographics_gpt4_tokens-2000_clean.csv')\n",
    "gpt4_all_preds = pd.read_csv('../fmri_participant_demographics/data/outputs/gpt/eval_participant_demographics_gpt4_tokens-2000.csv')"
   ]
  },
  {
   "cell_type": "code",
   "execution_count": 5,
   "id": "91cdea8e",
   "metadata": {},
   "outputs": [],
   "source": [
    "gpt4_turbo_clean_preds = pd.read_csv('../fmri_participant_demographics/data/outputs/gpt/eval_participant_demographics_gpt-4-1106-preview_tokens-2000_clean.csv')\n",
    "gpt4_turbo_all_preds = pd.read_csv('../fmri_participant_demographics/data/outputs/gpt/eval_participant_demographics_gpt-4-1106-preview_tokens-2000.csv')"
   ]
  },
  {
   "cell_type": "code",
   "execution_count": 6,
   "id": "ebc81f5b",
   "metadata": {},
   "outputs": [
    {
     "data": {
      "text/plain": [
       "True"
      ]
     },
     "execution_count": 6,
     "metadata": {},
     "output_type": "execute_result"
    }
   ],
   "source": [
    "(gpt4_turbo_clean_preds[gpt4_turbo_clean_preds.pmcid == 8752963]['final'] == True).any()"
   ]
  },
  {
   "cell_type": "code",
   "execution_count": 7,
   "id": "04d8123c",
   "metadata": {},
   "outputs": [],
   "source": [
    "def _keep_final(df):\n",
    "    \"\"\" If within a PMCID any rows are annotated as final keep, otherwise return all\"\"\"\n",
    "    if (df['final'] == True).any():\n",
    "        return df[df['final'] == True]\n",
    "    else:\n",
    "        return df"
   ]
  },
  {
   "cell_type": "code",
   "execution_count": 8,
   "id": "a4cbcb10",
   "metadata": {},
   "outputs": [],
   "source": [
    "def _merge_score(clean_preds, all_preds, ground_truth, unique_ids):\n",
    "    clean_preds = clean_preds[clean_preds.pmcid.isin(unique_ids)]\n",
    "    all_preds = all_preds[all_preds.pmcid.isin(unique_ids)]\n",
    "    \n",
    "    # For GPT-4 turbo look for final key\n",
    "    if 'final' in clean_preds:\n",
    "        clean_preds = clean_preds.groupby('pmcid').apply(_keep_final).reset_index(drop=True)\n",
    "        all_preds = all_preds.groupby('pmcid').apply(_keep_final).reset_index(drop=True)\n",
    "    \n",
    "    clean_sum_count = clean_preds.groupby('pmcid').sum().reset_index()[['pmcid', 'count']]\n",
    "    gt_sum_count = ground_truth.groupby('pmcid').sum().reset_index()[['pmcid', 'count']]\n",
    "    merged = pd.merge(clean_sum_count, gt_sum_count, on='pmcid', )\n",
    "    merged = merged.rename(columns={'count_y': 'true_count', 'count_x': 'prediction'})\n",
    "    \n",
    "    # Score prediction error\n",
    "    merged['pe'] = abs((merged['true_count'] - merged['prediction']) / merged['true_count'])\n",
    "    merged = merged.sort_values('pe')\n",
    "    \n",
    "    return clean_preds, all_preds, merged"
   ]
  },
  {
   "cell_type": "code",
   "execution_count": 9,
   "id": "ea1e1f6e-7860-4107-a9dc-80d2fc671401",
   "metadata": {},
   "outputs": [],
   "source": [
    "gpt3_clean_preds, gpt3_all_preds, gpt3_merged = _merge_score(gpt3_clean_preds, gpt3_all_preds, ground_truth, unique_ids)"
   ]
  },
  {
   "cell_type": "code",
   "execution_count": 10,
   "id": "a28325dc-cdae-46ec-8e6b-a8d936b7b1f4",
   "metadata": {},
   "outputs": [],
   "source": [
    "gpt4_clean_preds, gpt4_all_preds, gpt4_merged = _merge_score(gpt4_clean_preds, gpt4_all_preds, ground_truth, unique_ids)"
   ]
  },
  {
   "cell_type": "code",
   "execution_count": 11,
   "id": "213258fd",
   "metadata": {},
   "outputs": [],
   "source": [
    "gpt4_turbo_clean_preds, gpt4_turbo_all_preds, gpt4_turbo_merged = _merge_score(gpt4_turbo_clean_preds, gpt4_turbo_all_preds, ground_truth, unique_ids)"
   ]
  },
  {
   "cell_type": "markdown",
   "id": "334dfe2b-d831-44f8-b607-fb89767ae8bc",
   "metadata": {},
   "source": [
    "## Scores"
   ]
  },
  {
   "cell_type": "code",
   "execution_count": 12,
   "id": "f23b719c-0b7c-42a4-b5b5-52c45bd42532",
   "metadata": {},
   "outputs": [
    {
     "data": {
      "text/plain": [
       "0.009174311926605505"
      ]
     },
     "execution_count": 12,
     "metadata": {},
     "output_type": "execute_result"
    }
   ],
   "source": [
    "gpt3_merged['pe'].median()"
   ]
  },
  {
   "cell_type": "code",
   "execution_count": 13,
   "id": "9a8a63af",
   "metadata": {},
   "outputs": [
    {
     "data": {
      "text/plain": [
       "0.2727272727272727"
      ]
     },
     "execution_count": 13,
     "metadata": {},
     "output_type": "execute_result"
    }
   ],
   "source": [
    "gpt3_merged['pe'].quantile(0.75)"
   ]
  },
  {
   "cell_type": "code",
   "execution_count": 14,
   "id": "657d7b7d-0919-4a8e-bad7-4bbf5b852a1d",
   "metadata": {},
   "outputs": [
    {
     "data": {
      "text/plain": [
       "2.0561043082459176"
      ]
     },
     "execution_count": 14,
     "metadata": {},
     "output_type": "execute_result"
    }
   ],
   "source": [
    "gpt3_merged['pe'].mean()"
   ]
  },
  {
   "cell_type": "code",
   "execution_count": 15,
   "id": "73b5bbdd",
   "metadata": {},
   "outputs": [
    {
     "data": {
      "text/plain": [
       "0.0"
      ]
     },
     "execution_count": 15,
     "metadata": {},
     "output_type": "execute_result"
    }
   ],
   "source": [
    "gpt4_merged['pe'].median()"
   ]
  },
  {
   "cell_type": "code",
   "execution_count": 16,
   "id": "ee571b36",
   "metadata": {},
   "outputs": [
    {
     "data": {
      "text/plain": [
       "0.2902097902097902"
      ]
     },
     "execution_count": 16,
     "metadata": {},
     "output_type": "execute_result"
    }
   ],
   "source": [
    "gpt4_merged['pe'].quantile(0.75)"
   ]
  },
  {
   "cell_type": "code",
   "execution_count": 17,
   "id": "67a7e2e9",
   "metadata": {},
   "outputs": [
    {
     "data": {
      "text/plain": [
       "2.9548877383848384"
      ]
     },
     "execution_count": 17,
     "metadata": {},
     "output_type": "execute_result"
    }
   ],
   "source": [
    "gpt4_merged['pe'].mean()"
   ]
  },
  {
   "cell_type": "markdown",
   "id": "7e97d01e",
   "metadata": {},
   "source": [
    "Excluding one outlier, GPT-4 perform slightly better:"
   ]
  },
  {
   "cell_type": "code",
   "execution_count": 18,
   "id": "d368f480",
   "metadata": {},
   "outputs": [
    {
     "data": {
      "text/plain": [
       "0.3697670955816621"
      ]
     },
     "execution_count": 18,
     "metadata": {},
     "output_type": "execute_result"
    }
   ],
   "source": [
    "gpt3_merged.iloc[0:-1]['pe'].mean()"
   ]
  },
  {
   "cell_type": "code",
   "execution_count": 19,
   "id": "6434208b",
   "metadata": {},
   "outputs": [
    {
     "data": {
      "text/plain": [
       "0.29696997111410156"
      ]
     },
     "execution_count": 19,
     "metadata": {},
     "output_type": "execute_result"
    }
   ],
   "source": [
    "gpt4_merged.iloc[0:-1]['pe'].mean()"
   ]
  },
  {
   "cell_type": "code",
   "execution_count": 20,
   "id": "447be7b2",
   "metadata": {},
   "outputs": [
    {
     "data": {
      "text/plain": [
       "0.0"
      ]
     },
     "execution_count": 20,
     "metadata": {},
     "output_type": "execute_result"
    }
   ],
   "source": [
    "gpt4_turbo_merged['pe'].median()"
   ]
  },
  {
   "cell_type": "code",
   "execution_count": 21,
   "id": "ef5adf19",
   "metadata": {},
   "outputs": [
    {
     "data": {
      "text/plain": [
       "0.13866483482514214"
      ]
     },
     "execution_count": 21,
     "metadata": {},
     "output_type": "execute_result"
    }
   ],
   "source": [
    "gpt4_turbo_merged['pe'].mean()"
   ]
  },
  {
   "cell_type": "code",
   "execution_count": 22,
   "id": "ec636c73",
   "metadata": {},
   "outputs": [
    {
     "data": {
      "text/html": [
       "<div>\n",
       "<style scoped>\n",
       "    .dataframe tbody tr th:only-of-type {\n",
       "        vertical-align: middle;\n",
       "    }\n",
       "\n",
       "    .dataframe tbody tr th {\n",
       "        vertical-align: top;\n",
       "    }\n",
       "\n",
       "    .dataframe thead th {\n",
       "        text-align: right;\n",
       "    }\n",
       "</style>\n",
       "<table border=\"1\" class=\"dataframe\">\n",
       "  <thead>\n",
       "    <tr style=\"text-align: right;\">\n",
       "      <th></th>\n",
       "      <th>pmcid</th>\n",
       "      <th>prediction</th>\n",
       "      <th>true_count</th>\n",
       "      <th>pe</th>\n",
       "    </tr>\n",
       "  </thead>\n",
       "  <tbody>\n",
       "    <tr>\n",
       "      <th>22</th>\n",
       "      <td>3913832</td>\n",
       "      <td>31</td>\n",
       "      <td>62</td>\n",
       "      <td>0.500000</td>\n",
       "    </tr>\n",
       "    <tr>\n",
       "      <th>89</th>\n",
       "      <td>7493988</td>\n",
       "      <td>10</td>\n",
       "      <td>20</td>\n",
       "      <td>0.500000</td>\n",
       "    </tr>\n",
       "    <tr>\n",
       "      <th>90</th>\n",
       "      <td>7539836</td>\n",
       "      <td>43</td>\n",
       "      <td>93</td>\n",
       "      <td>0.537634</td>\n",
       "    </tr>\n",
       "    <tr>\n",
       "      <th>31</th>\n",
       "      <td>4349631</td>\n",
       "      <td>16</td>\n",
       "      <td>38</td>\n",
       "      <td>0.578947</td>\n",
       "    </tr>\n",
       "    <tr>\n",
       "      <th>46</th>\n",
       "      <td>4983635</td>\n",
       "      <td>19</td>\n",
       "      <td>64</td>\n",
       "      <td>0.703125</td>\n",
       "    </tr>\n",
       "    <tr>\n",
       "      <th>39</th>\n",
       "      <td>4522562</td>\n",
       "      <td>8</td>\n",
       "      <td>46</td>\n",
       "      <td>0.826087</td>\n",
       "    </tr>\n",
       "    <tr>\n",
       "      <th>20</th>\n",
       "      <td>3893192</td>\n",
       "      <td>102</td>\n",
       "      <td>51</td>\n",
       "      <td>1.000000</td>\n",
       "    </tr>\n",
       "    <tr>\n",
       "      <th>80</th>\n",
       "      <td>7038454</td>\n",
       "      <td>217</td>\n",
       "      <td>104</td>\n",
       "      <td>1.086538</td>\n",
       "    </tr>\n",
       "    <tr>\n",
       "      <th>12</th>\n",
       "      <td>3672681</td>\n",
       "      <td>78</td>\n",
       "      <td>32</td>\n",
       "      <td>1.437500</td>\n",
       "    </tr>\n",
       "    <tr>\n",
       "      <th>27</th>\n",
       "      <td>4215530</td>\n",
       "      <td>136</td>\n",
       "      <td>46</td>\n",
       "      <td>1.956522</td>\n",
       "    </tr>\n",
       "  </tbody>\n",
       "</table>\n",
       "</div>"
      ],
      "text/plain": [
       "      pmcid  prediction  true_count        pe\n",
       "22  3913832          31          62  0.500000\n",
       "89  7493988          10          20  0.500000\n",
       "90  7539836          43          93  0.537634\n",
       "31  4349631          16          38  0.578947\n",
       "46  4983635          19          64  0.703125\n",
       "39  4522562           8          46  0.826087\n",
       "20  3893192         102          51  1.000000\n",
       "80  7038454         217         104  1.086538\n",
       "12  3672681          78          32  1.437500\n",
       "27  4215530         136          46  1.956522"
      ]
     },
     "execution_count": 22,
     "metadata": {},
     "output_type": "execute_result"
    }
   ],
   "source": [
    "gpt4_turbo_merged[-10:]"
   ]
  },
  {
   "cell_type": "markdown",
   "id": "494fbe13-b11a-4af0-9c63-494bc0ef2936",
   "metadata": {},
   "source": [
    "## Explore"
   ]
  },
  {
   "cell_type": "code",
   "execution_count": 50,
   "id": "7132344b",
   "metadata": {},
   "outputs": [],
   "source": [
    "tid = 3672681"
   ]
  },
  {
   "cell_type": "code",
   "execution_count": 51,
   "id": "6bb21a69-935d-4edb-8193-bdbe14def8ef",
   "metadata": {},
   "outputs": [
    {
     "data": {
      "text/html": [
       "<div>\n",
       "<style scoped>\n",
       "    .dataframe tbody tr th:only-of-type {\n",
       "        vertical-align: middle;\n",
       "    }\n",
       "\n",
       "    .dataframe tbody tr th {\n",
       "        vertical-align: top;\n",
       "    }\n",
       "\n",
       "    .dataframe thead th {\n",
       "        text-align: right;\n",
       "    }\n",
       "</style>\n",
       "<table border=\"1\" class=\"dataframe\">\n",
       "  <thead>\n",
       "    <tr style=\"text-align: right;\">\n",
       "      <th></th>\n",
       "      <th>count</th>\n",
       "      <th>diagnosis</th>\n",
       "      <th>group_name</th>\n",
       "      <th>final</th>\n",
       "      <th>rank</th>\n",
       "      <th>start_char</th>\n",
       "      <th>end_char</th>\n",
       "      <th>pmcid</th>\n",
       "      <th>female count</th>\n",
       "      <th>age range</th>\n",
       "      <th>male count</th>\n",
       "      <th>age mean</th>\n",
       "      <th>age minimum</th>\n",
       "      <th>age maximum</th>\n",
       "      <th>subgroup_name</th>\n",
       "      <th>age median</th>\n",
       "    </tr>\n",
       "  </thead>\n",
       "  <tbody>\n",
       "    <tr>\n",
       "      <th>16</th>\n",
       "      <td>46</td>\n",
       "      <td>NaN</td>\n",
       "      <td>healthy</td>\n",
       "      <td>True</td>\n",
       "      <td>0</td>\n",
       "      <td>13846</td>\n",
       "      <td>15500</td>\n",
       "      <td>3672681</td>\n",
       "      <td>NaN</td>\n",
       "      <td>NaN</td>\n",
       "      <td>NaN</td>\n",
       "      <td>NaN</td>\n",
       "      <td>NaN</td>\n",
       "      <td>NaN</td>\n",
       "      <td>behavioral study</td>\n",
       "      <td>NaN</td>\n",
       "    </tr>\n",
       "    <tr>\n",
       "      <th>17</th>\n",
       "      <td>32</td>\n",
       "      <td>NaN</td>\n",
       "      <td>healthy</td>\n",
       "      <td>True</td>\n",
       "      <td>0</td>\n",
       "      <td>13846</td>\n",
       "      <td>15500</td>\n",
       "      <td>3672681</td>\n",
       "      <td>NaN</td>\n",
       "      <td>NaN</td>\n",
       "      <td>NaN</td>\n",
       "      <td>NaN</td>\n",
       "      <td>NaN</td>\n",
       "      <td>NaN</td>\n",
       "      <td>fMRI study</td>\n",
       "      <td>NaN</td>\n",
       "    </tr>\n",
       "  </tbody>\n",
       "</table>\n",
       "</div>"
      ],
      "text/plain": [
       "    count diagnosis group_name final  rank  start_char  end_char    pmcid  \\\n",
       "16     46       NaN    healthy  True     0       13846     15500  3672681   \n",
       "17     32       NaN    healthy  True     0       13846     15500  3672681   \n",
       "\n",
       "    female count age range  male count  age mean  age minimum  age maximum  \\\n",
       "16           NaN       NaN         NaN       NaN          NaN          NaN   \n",
       "17           NaN       NaN         NaN       NaN          NaN          NaN   \n",
       "\n",
       "       subgroup_name  age median  \n",
       "16  behavioral study         NaN  \n",
       "17        fMRI study         NaN  "
      ]
     },
     "execution_count": 51,
     "metadata": {},
     "output_type": "execute_result"
    }
   ],
   "source": [
    "gpt4_turbo_all_preds[gpt4_turbo_all_preds.pmcid == tid]"
   ]
  },
  {
   "cell_type": "code",
   "execution_count": 52,
   "id": "9b8aa56d",
   "metadata": {},
   "outputs": [
    {
     "data": {
      "text/html": [
       "<div>\n",
       "<style scoped>\n",
       "    .dataframe tbody tr th:only-of-type {\n",
       "        vertical-align: middle;\n",
       "    }\n",
       "\n",
       "    .dataframe tbody tr th {\n",
       "        vertical-align: top;\n",
       "    }\n",
       "\n",
       "    .dataframe thead th {\n",
       "        text-align: right;\n",
       "    }\n",
       "</style>\n",
       "<table border=\"1\" class=\"dataframe\">\n",
       "  <thead>\n",
       "    <tr style=\"text-align: right;\">\n",
       "      <th></th>\n",
       "      <th>count</th>\n",
       "      <th>diagnosis</th>\n",
       "      <th>group_name</th>\n",
       "      <th>final</th>\n",
       "      <th>rank</th>\n",
       "      <th>start_char</th>\n",
       "      <th>end_char</th>\n",
       "      <th>pmcid</th>\n",
       "      <th>female count</th>\n",
       "      <th>age range</th>\n",
       "      <th>male count</th>\n",
       "      <th>age mean</th>\n",
       "      <th>age minimum</th>\n",
       "      <th>age maximum</th>\n",
       "      <th>subgroup_name</th>\n",
       "      <th>age median</th>\n",
       "    </tr>\n",
       "  </thead>\n",
       "  <tbody>\n",
       "    <tr>\n",
       "      <th>16</th>\n",
       "      <td>46</td>\n",
       "      <td>NaN</td>\n",
       "      <td>healthy</td>\n",
       "      <td>True</td>\n",
       "      <td>0</td>\n",
       "      <td>13846</td>\n",
       "      <td>15500</td>\n",
       "      <td>3672681</td>\n",
       "      <td>NaN</td>\n",
       "      <td>NaN</td>\n",
       "      <td>NaN</td>\n",
       "      <td>NaN</td>\n",
       "      <td>NaN</td>\n",
       "      <td>NaN</td>\n",
       "      <td>behavioral study</td>\n",
       "      <td>NaN</td>\n",
       "    </tr>\n",
       "    <tr>\n",
       "      <th>17</th>\n",
       "      <td>32</td>\n",
       "      <td>NaN</td>\n",
       "      <td>healthy</td>\n",
       "      <td>True</td>\n",
       "      <td>0</td>\n",
       "      <td>13846</td>\n",
       "      <td>15500</td>\n",
       "      <td>3672681</td>\n",
       "      <td>NaN</td>\n",
       "      <td>NaN</td>\n",
       "      <td>NaN</td>\n",
       "      <td>NaN</td>\n",
       "      <td>NaN</td>\n",
       "      <td>NaN</td>\n",
       "      <td>fMRI study</td>\n",
       "      <td>NaN</td>\n",
       "    </tr>\n",
       "  </tbody>\n",
       "</table>\n",
       "</div>"
      ],
      "text/plain": [
       "    count diagnosis group_name final  rank  start_char  end_char    pmcid  \\\n",
       "16     46       NaN    healthy  True     0       13846     15500  3672681   \n",
       "17     32       NaN    healthy  True     0       13846     15500  3672681   \n",
       "\n",
       "    female count age range  male count  age mean  age minimum  age maximum  \\\n",
       "16           NaN       NaN         NaN       NaN          NaN          NaN   \n",
       "17           NaN       NaN         NaN       NaN          NaN          NaN   \n",
       "\n",
       "       subgroup_name  age median  \n",
       "16  behavioral study         NaN  \n",
       "17        fMRI study         NaN  "
      ]
     },
     "execution_count": 52,
     "metadata": {},
     "output_type": "execute_result"
    }
   ],
   "source": [
    "gpt4_turbo_all_preds[gpt4_turbo_all_preds.pmcid == tid]"
   ]
  },
  {
   "cell_type": "code",
   "execution_count": 53,
   "id": "acb3e032-6890-44cd-80b4-df914288e02d",
   "metadata": {},
   "outputs": [
    {
     "data": {
      "text/html": [
       "<div>\n",
       "<style scoped>\n",
       "    .dataframe tbody tr th:only-of-type {\n",
       "        vertical-align: middle;\n",
       "    }\n",
       "\n",
       "    .dataframe tbody tr th {\n",
       "        vertical-align: top;\n",
       "    }\n",
       "\n",
       "    .dataframe thead th {\n",
       "        text-align: right;\n",
       "    }\n",
       "</style>\n",
       "<table border=\"1\" class=\"dataframe\">\n",
       "  <thead>\n",
       "    <tr style=\"text-align: right;\">\n",
       "      <th></th>\n",
       "      <th>group_name</th>\n",
       "      <th>subgroup_name</th>\n",
       "      <th>project_name</th>\n",
       "      <th>annotator_name</th>\n",
       "      <th>pmcid</th>\n",
       "      <th>diagnosis</th>\n",
       "      <th>count</th>\n",
       "      <th>male count</th>\n",
       "      <th>age mean</th>\n",
       "      <th>female count</th>\n",
       "      <th>age minimum</th>\n",
       "      <th>age maximum</th>\n",
       "      <th>age median</th>\n",
       "    </tr>\n",
       "  </thead>\n",
       "  <tbody>\n",
       "    <tr>\n",
       "      <th>16</th>\n",
       "      <td>healthy</td>\n",
       "      <td>_</td>\n",
       "      <td>participant_demographics</td>\n",
       "      <td>Jerome_Dockes</td>\n",
       "      <td>3672681</td>\n",
       "      <td>NaN</td>\n",
       "      <td>32</td>\n",
       "      <td>NaN</td>\n",
       "      <td>NaN</td>\n",
       "      <td>NaN</td>\n",
       "      <td>NaN</td>\n",
       "      <td>NaN</td>\n",
       "      <td>NaN</td>\n",
       "    </tr>\n",
       "  </tbody>\n",
       "</table>\n",
       "</div>"
      ],
      "text/plain": [
       "   group_name subgroup_name              project_name annotator_name    pmcid  \\\n",
       "16    healthy             _  participant_demographics  Jerome_Dockes  3672681   \n",
       "\n",
       "   diagnosis  count  male count  age mean  female count  age minimum  \\\n",
       "16       NaN     32         NaN       NaN           NaN          NaN   \n",
       "\n",
       "    age maximum  age median  \n",
       "16          NaN         NaN  "
      ]
     },
     "execution_count": 53,
     "metadata": {},
     "output_type": "execute_result"
    }
   ],
   "source": [
    "ground_truth[ground_truth.pmcid == tid]"
   ]
  },
  {
   "cell_type": "code",
   "execution_count": 54,
   "id": "57b8e264-1e32-4ea3-91d5-f9fa592850d9",
   "metadata": {},
   "outputs": [],
   "source": [
    "content = embeddings[(embeddings.pmcid == tid) & (embeddings.start_char == gpt4_all_preds[gpt4_all_preds.pmcid == tid].iloc[0].start_char)].iloc[0].content"
   ]
  },
  {
   "cell_type": "code",
   "execution_count": 55,
   "id": "89209fd4",
   "metadata": {},
   "outputs": [
    {
     "data": {
      "text/plain": [
       "'\\n## Materials and methods \\n  \\n### Participants \\n  \\nParticipants were recruited from a cohort of 615 young (behavioral study: age range 18–30 years, mean 23.65 ± 2.86; fMRI study: age range 19–30 years, mean 23.00 ± 2.51), healthy volunteers of a large-scale behavioral genetic study conducted at the Leibniz-Institute for Neurobiology, Magdeburg. Based on the assumption that a possible small effect of genes may not only require a large number of volunteers but also a strict control of non-genetic factors (Lee et al.,  ), participants were assessed for several exclusion criteria. All participants were right-handed according to self-report, not genetically related, and had obtained at least a university entrance diploma (  Abitur  ). Importantly, all participants had undergone routine clinical interview to exclude present or past neurological or psychiatric illness, alcohol, or drug abuse, use of centrally-acting medication, the presence of psychosis or bipolar disorder in a first-degree relative, and additionally, given the design of the experiment, frequent gambling. For both studies, the behavioral and the fMRI experiment, two participants were invited for piloting of the paradigm. Their data were not used for subsequent analyses. The final study sample consisted of 46 volunteers in the behavioral study and 32 participants in the fMRI study, with no overlap between the experiments. All participants gave written informed consent in accordance with the Declaration of Helsinki and received financial compensation for participation. The work was approved by the Ethics Committee of the University of Magdeburg, Faculty of Medicine. \\n\\n'"
      ]
     },
     "execution_count": 55,
     "metadata": {},
     "output_type": "execute_result"
    }
   ],
   "source": [
    "content"
   ]
  },
  {
   "cell_type": "markdown",
   "id": "5852a68d",
   "metadata": {},
   "source": [
    "### Observations"
   ]
  },
  {
   "cell_type": "markdown",
   "id": "f92dd2e8",
   "metadata": {},
   "source": [
    "GPT-3 & 4 are both very good at extracting sample size, with GPT-4 being a bit better sometimes (althuogh more amibitious and extracting more groups).\n",
    "\n",
    "Challenge is if given more than 1 group, how to select fMRI group?\n",
    "Often counts are full counts, and not including exclusions\n",
    "\n",
    "GPT-4 often reports both inital and final counts"
   ]
  }
 ],
 "metadata": {
  "kernelspec": {
   "display_name": "Python 3 (ipykernel)",
   "language": "python",
   "name": "python3"
  },
  "language_info": {
   "codemirror_mode": {
    "name": "ipython",
    "version": 3
   },
   "file_extension": ".py",
   "mimetype": "text/x-python",
   "name": "python",
   "nbconvert_exporter": "python",
   "pygments_lexer": "ipython3",
   "version": "3.11.4"
  }
 },
 "nbformat": 4,
 "nbformat_minor": 5
}
