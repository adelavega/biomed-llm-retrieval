{
 "cells": [
  {
   "cell_type": "markdown",
   "id": "5352a73e-f708-412f-a580-f179b343bb47",
   "metadata": {},
   "source": [
    "## Evaluating multi-group promps"
   ]
  },
  {
   "cell_type": "code",
   "execution_count": 1,
   "id": "867d02f2-8fa3-42a9-8c87-343565d9b43b",
   "metadata": {},
   "outputs": [],
   "source": [
    "import pandas as pd\n",
    "from labelrepo.projects.participant_demographics import get_participant_demographics\n",
    "from labelrepo.database import get_database_connection\n",
    "\n",
    "subgroups = get_participant_demographics(include_locations=True)\n",
    "docs_info = pd.read_sql(\n",
    "    \"select pmcid, publication_year, title, text from document\",\n",
    "    get_database_connection(),\n",
    "\n",
    ")"
   ]
  },
  {
   "cell_type": "code",
   "execution_count": 2,
   "id": "e9bf85ea-47aa-4cf1-9056-9210775f0f04",
   "metadata": {},
   "outputs": [],
   "source": [
    "# Load multi group as well\n",
    "jerome_pd = subgroups[(subgroups.project_name == 'participant_demographics') & \\\n",
    "                      (subgroups.annotator_name == 'Jerome_Dockes')]\n",
    "\n",
    "counts = jerome_pd.groupby('pmcid').count().reset_index()\n",
    "multi_group_pmcids = counts[counts['count'] > 1].pmcid\n",
    "multi_group = jerome_pd[jerome_pd.pmcid.isin(multi_group_pmcids)]\n",
    "\n",
    "# Get multi group docs\n",
    "multi_group_docs = docs_info[docs_info.pmcid.isin(multi_group.pmcid)]"
   ]
  },
  {
   "cell_type": "markdown",
   "id": "099f1aed-ab05-4980-9530-84f6d47b9b9e",
   "metadata": {},
   "source": [
    "## Embed documents"
   ]
  },
  {
   "cell_type": "code",
   "execution_count": 3,
   "id": "accb9cbf-2edc-4bdf-bfa9-525d1892e68a",
   "metadata": {},
   "outputs": [],
   "source": [
    "import openai\n",
    "openai.api_key = open('/home/zorro/.keys/open_ai.key').read().strip()"
   ]
  },
  {
   "cell_type": "code",
   "execution_count": null,
   "id": "f4b0210d-8eb2-4751-9edd-cfaeb3b483fd",
   "metadata": {},
   "outputs": [
    {
     "name": "stderr",
     "output_type": "stream",
     "text": [
      " 10%|████▎                                       | 8/81 [00:27<04:35,  3.78s/it]/home/zorro/repos/biomed-llm-retrieval/split.py:103: UserWarning: Skipping document, not in markdown\n",
      "  warnings.warn(\"Skipping document, not in markdown\")\n",
      " 42%|██████████████████                         | 34/81 [01:42<02:13,  2.83s/it]"
     ]
    }
   ],
   "source": [
    "from embed import embed_pmc_articles, query_embeddings\n",
    "texts = multi_group_docs[['pmcid', 'text']].to_dict(orient='records')\n",
    "embeddings = embed_pmc_articles(texts)"
   ]
  },
  {
   "cell_type": "code",
   "execution_count": null,
   "id": "863eab77-f82e-4f06-aac7-43b0821e5222",
   "metadata": {},
   "outputs": [],
   "source": [
    "%debug"
   ]
  },
  {
   "cell_type": "code",
   "execution_count": null,
   "id": "fc25fc1d-bc77-4dd7-b61e-325762017570",
   "metadata": {},
   "outputs": [],
   "source": [
    "import pickle\n",
    "# pickle.dump(embeddings, open('data/multi_group_embeddings.pkl', 'wb'))"
   ]
  },
  {
   "cell_type": "code",
   "execution_count": null,
   "id": "2998b797-4358-45e4-9b0e-14ba8451ab12",
   "metadata": {},
   "outputs": [],
   "source": [
    "texts[0]"
   ]
  },
  {
   "cell_type": "code",
   "execution_count": null,
   "id": "d8eaa9f2-b819-494b-81fc-5aa2e3b80d28",
   "metadata": {},
   "outputs": [],
   "source": [
    "t = \"Martínez, Antígona and Tobe, Russell H. and Gaspar, Pablo A. and Malinsky, Daniel and Dias, Elisa C. and Sehatpour, Pejman and Lakatos, Peter and Patel, Gaurav H. and Bermudez, Dalton H. and Silipo, Gail and Javitt, Daniel C.\\n\""
   ]
  },
  {
   "cell_type": "code",
   "execution_count": null,
   "id": "9de27bf7-7ea0-4a1c-bb3a-cbd7bf2a4423",
   "metadata": {},
   "outputs": [],
   "source": [
    "from split import split_markdown"
   ]
  },
  {
   "cell_type": "code",
   "execution_count": null,
   "id": "9b2621a3-cabd-454a-b5c0-ea7062dca857",
   "metadata": {},
   "outputs": [],
   "source": [
    "split_markdown(t, delimiters=['##', '###'])"
   ]
  },
  {
   "cell_type": "code",
   "execution_count": null,
   "id": "f5b20771-6b68-41a7-86ac-bf1ebf9a91d3",
   "metadata": {},
   "outputs": [],
   "source": []
  }
 ],
 "metadata": {
  "kernelspec": {
   "display_name": "Python 3 (ipykernel)",
   "language": "python",
   "name": "python3"
  },
  "language_info": {
   "codemirror_mode": {
    "name": "ipython",
    "version": 3
   },
   "file_extension": ".py",
   "mimetype": "text/x-python",
   "name": "python",
   "nbconvert_exporter": "python",
   "pygments_lexer": "ipython3",
   "version": "3.11.4"
  }
 },
 "nbformat": 4,
 "nbformat_minor": 5
}
