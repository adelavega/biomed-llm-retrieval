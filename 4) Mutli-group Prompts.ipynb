{
 "cells": [
  {
   "cell_type": "markdown",
   "id": "5352a73e-f708-412f-a580-f179b343bb47",
   "metadata": {},
   "source": [
    "## Evaluating multi-group promps"
   ]
  },
  {
   "cell_type": "code",
   "execution_count": 3,
   "id": "867d02f2-8fa3-42a9-8c87-343565d9b43b",
   "metadata": {},
   "outputs": [],
   "source": [
    "import pandas as pd\n",
    "from labelrepo.projects.participant_demographics import get_participant_demographics\n",
    "\n",
    "subgroups = get_participant_demographics(include_locations=True)"
   ]
  },
  {
   "cell_type": "code",
   "execution_count": 4,
   "id": "3ecfc2f1-12e2-4421-8d5f-7ab0a67cc600",
   "metadata": {},
   "outputs": [],
   "source": [
    "from labelrepo.database import get_database_connection\n",
    "\n",
    "import pandas as pd\n",
    "\n",
    "docs_info = pd.read_sql(\n",
    "    \"select pmcid, publication_year, title, text from document\",\n",
    "    get_database_connection(),\n",
    ")"
   ]
  },
  {
   "cell_type": "code",
   "execution_count": null,
   "id": "e9bf85ea-47aa-4cf1-9056-9210775f0f04",
   "metadata": {},
   "outputs": [],
   "source": []
  }
 ],
 "metadata": {
  "kernelspec": {
   "display_name": "Python 3 (ipykernel)",
   "language": "python",
   "name": "python3"
  },
  "language_info": {
   "codemirror_mode": {
    "name": "ipython",
    "version": 3
   },
   "file_extension": ".py",
   "mimetype": "text/x-python",
   "name": "python",
   "nbconvert_exporter": "python",
   "pygments_lexer": "ipython3",
   "version": "3.11.4"
  }
 },
 "nbformat": 4,
 "nbformat_minor": 5
}
